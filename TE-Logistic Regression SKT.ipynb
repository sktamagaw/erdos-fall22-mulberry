{
 "cells": [
  {
   "cell_type": "markdown",
   "id": "529cf25f",
   "metadata": {},
   "source": [
    "In this notebook we explore with Logistic Regression Classifiers on Target Encoded Classification Features\n",
    "\n",
    "We will use the useful features and C=1 as found in the original Logistic Regression notebook"
   ]
  },
  {
   "cell_type": "markdown",
   "id": "afca886c",
   "metadata": {},
   "source": [
    "## Importing Packages and data"
   ]
  },
  {
   "cell_type": "code",
   "execution_count": 1,
   "id": "dd5a9025",
   "metadata": {},
   "outputs": [],
   "source": [
    "import pandas as pd\n",
    "import numpy as np"
   ]
  },
  {
   "cell_type": "code",
   "execution_count": 2,
   "id": "cdaf0735",
   "metadata": {},
   "outputs": [],
   "source": [
    "from sklearn.model_selection import StratifiedKFold\n",
    "from sklearn.model_selection import train_test_split"
   ]
  },
  {
   "cell_type": "code",
   "execution_count": 3,
   "id": "d346f6bb",
   "metadata": {},
   "outputs": [],
   "source": [
    "from sklearn.svm import SVC\n",
    "from sklearn.linear_model import LogisticRegression"
   ]
  },
  {
   "cell_type": "code",
   "execution_count": 4,
   "id": "c1d10740",
   "metadata": {},
   "outputs": [],
   "source": [
    "from sklearn.metrics import recall_score, accuracy_score"
   ]
  },
  {
   "cell_type": "code",
   "execution_count": 5,
   "id": "ae0c7a3c",
   "metadata": {},
   "outputs": [],
   "source": [
    "from matplotlib import pyplot as plt\n",
    "import seaborn as sns"
   ]
  },
  {
   "cell_type": "code",
   "execution_count": 13,
   "id": "8914c327",
   "metadata": {},
   "outputs": [],
   "source": [
    "df=pd.read_csv('clean_data_3.csv')"
   ]
  },
  {
   "cell_type": "markdown",
   "id": "ea21765c",
   "metadata": {},
   "source": [
    "## Important shortcuts and helper functions"
   ]
  },
  {
   "cell_type": "code",
   "execution_count": 14,
   "id": "83586001",
   "metadata": {},
   "outputs": [],
   "source": [
    "features2=['SEX_TE', \n",
    "           'EDUCATION_TE', \n",
    "           'MARRIAGE_TE', \n",
    "           'PAY_1_TE',\n",
    "           'PAY_AMT1',\n",
    "           'AGE_BY10_TE', \n",
    "           'AVE_PAY', \n",
    "           'AGE/LIM', \n",
    "           'AVE_BILL_AMT',\n",
    "           'AVE_BILL_AMT/LIM', \n",
    "           'AVE_PAY_AMT',\n",
    "           'AVE_PAY_AMT/LIM',  \n",
    "           'AVE_PAY/BILL', \n",
    "           'UNPAID_MONTHS']"
   ]
  },
  {
   "cell_type": "markdown",
   "id": "6f57592f",
   "metadata": {},
   "source": [
    "## Splitting the data"
   ]
  },
  {
   "cell_type": "code",
   "execution_count": 15,
   "id": "7054100f",
   "metadata": {},
   "outputs": [],
   "source": [
    "train, val = train_test_split(df,\n",
    "                              test_size=0.1,\n",
    "                              stratify=df[\"Y\"],\n",
    "                              shuffle=True,\n",
    "                              random_state=123)"
   ]
  },
  {
   "cell_type": "markdown",
   "id": "7488d5bc",
   "metadata": {},
   "source": [
    "## Logistic regression"
   ]
  },
  {
   "cell_type": "code",
   "execution_count": 12,
   "id": "ee38b48e",
   "metadata": {},
   "outputs": [],
   "source": [
    "def logreg(j, splits=5, features=features1):\n",
    "    '''creates a logistic regression model on every feature in features\n",
    "    outputs an array of accuracy and recall for C = 1-j\n",
    "    features is the list of features it will go through\n",
    "    splits is the number of kfold splits'''\n",
    "    \n",
    "    accs=np.zeros((j,splits))\n",
    "    recs = np.zeros((j,splits))\n",
    "    \n",
    "    kfold=StratifiedKFold(n_splits=splits,\n",
    "                    shuffle=True,\n",
    "                    random_state=123)\n",
    "    \n",
    "    for i in range(j):\n",
    "        x=0\n",
    "        for train_index, test_index in kfold.split(train[features], train['Y']):\n",
    "\n",
    "            # make logistic regression model with with C=i+1\n",
    "            logreg = LogisticRegression(C=i+1)\n",
    "            logreg.fit(\n",
    "                    train.iloc[train_index][features],\n",
    "                    train.iloc[train_index]['Y']\n",
    "                    )\n",
    "            pred=logreg.predict(train.iloc[test_index][features]\n",
    "                            )\n",
    "\n",
    "            # add metrics to the tables\n",
    "            accs[i,x]=accuracy_score(train.iloc[test_index]['Y'], pred)\n",
    "            recs[i,x]=recall_score(train.iloc[test_index]['Y'], pred, zero_division=0)\n",
    "            x=x+1\n",
    "    \n",
    "    return([accs, recs])\n",
    "        \n",
    "    "
   ]
  },
  {
   "cell_type": "code",
   "execution_count": 13,
   "id": "9e4e23ee",
   "metadata": {},
   "outputs": [
    {
     "name": "stderr",
     "output_type": "stream",
     "text": [
      "C:\\Users\\sheri\\anaconda3\\lib\\site-packages\\sklearn\\linear_model\\_logistic.py:763: ConvergenceWarning: lbfgs failed to converge (status=1):\n",
      "STOP: TOTAL NO. of ITERATIONS REACHED LIMIT.\n",
      "\n",
      "Increase the number of iterations (max_iter) or scale the data as shown in:\n",
      "    https://scikit-learn.org/stable/modules/preprocessing.html\n",
      "Please also refer to the documentation for alternative solver options:\n",
      "    https://scikit-learn.org/stable/modules/linear_model.html#logistic-regression\n",
      "  n_iter_i = _check_optimize_result(\n"
     ]
    }
   ],
   "source": [
    "metrics_lr=logreg(5, features=features2)"
   ]
  },
  {
   "cell_type": "code",
   "execution_count": 14,
   "id": "1f816ac2",
   "metadata": {},
   "outputs": [
    {
     "data": {
      "text/plain": [
       "[array([[0.78851852, 0.78574074, 0.79981481, 0.77814815, 0.79851852],\n",
       "        [0.78851852, 0.78574074, 0.79981481, 0.77814815, 0.79851852],\n",
       "        [0.78851852, 0.78574074, 0.80722222, 0.77814815, 0.79851852],\n",
       "        [0.78851852, 0.78574074, 0.79981481, 0.77814815, 0.79851852],\n",
       "        [0.78851852, 0.78574074, 0.79981481, 0.77814815, 0.79851852]]),\n",
       " array([[0.07531381, 0.06945607, 0.25628141, 0.00502513, 0.26214405],\n",
       "        [0.07531381, 0.06945607, 0.25628141, 0.00502513, 0.26214405],\n",
       "        [0.07531381, 0.06945607, 0.28056951, 0.00502513, 0.26214405],\n",
       "        [0.07531381, 0.06945607, 0.25628141, 0.00502513, 0.26214405],\n",
       "        [0.07531381, 0.06945607, 0.25628141, 0.00502513, 0.26214405]])]"
      ]
     },
     "execution_count": 14,
     "metadata": {},
     "output_type": "execute_result"
    }
   ],
   "source": [
    "metrics_lr"
   ]
  },
  {
   "cell_type": "code",
   "execution_count": 16,
   "id": "6d39d3b4",
   "metadata": {
    "scrolled": true
   },
   "outputs": [
    {
     "data": {
      "image/png": "[encoded data removed]",
      "text/plain": [
       "<Figure size 432x288 with 1 Axes>"
      ]
     },
     "metadata": {
      "needs_background": "light"
     },
     "output_type": "display_data"
    }
   ],
   "source": [
    "#plt.figure(figsize=(8,6))\n",
    "\n",
    "plt.scatter(5*[1,2,3,4,5], \n",
    "            np.transpose(metrics_lr[0]).reshape(1,-1),\n",
    "           label='Accuracy')\n",
    "\n",
    "plt.scatter(5*[1,2,3,4,5], \n",
    "            np.transpose(metrics_lr[1]).reshape(1,-1),\n",
    "           label='Recall')\n",
    "\n",
    "#plt.scatter(range(2,12), np.mean(metrics[1], axis=1), label='Average')\n",
    "\n",
    "plt.title('Metrics for Logistic Regression - TE features', fontsize=20)\n",
    "plt.xlabel('C')\n",
    "plt.ylabel('Metrics')\n",
    "plt.ylim(-0.1,1.1)\n",
    "\n",
    "plt.legend()\n",
    "\n",
    "plt.show()"
   ]
  },
  {
   "cell_type": "code",
   "execution_count": null,
   "id": "d58b8aab",
   "metadata": {},
   "outputs": [],
   "source": [
    "np.mean(metrics_lr[1][0])"
   ]
  },
  {
   "cell_type": "markdown",
   "id": "3ca22342",
   "metadata": {},
   "source": [
    "C doesn't seem to matter, so we'll just use 1"
   ]
  },
  {
   "cell_type": "code",
   "execution_count": 17,
   "id": "93b5bafb",
   "metadata": {},
   "outputs": [],
   "source": [
    "def logreg_2(splits=5, features=features1):\n",
    "    '''creates a logistic regression model on one feature, for each feature in features\n",
    "    features is the list of features it will go through\n",
    "    splits is the number of kfold splits'''\n",
    "    \n",
    "    accs=np.zeros((len(features),splits))\n",
    "    recs = np.zeros((len(features),splits))\n",
    "    \n",
    "    kfold=StratifiedKFold(n_splits=splits,\n",
    "                    shuffle=True,\n",
    "                    random_state=123)\n",
    "    \n",
    "    for i in range(len(features)):\n",
    "        x=0\n",
    "        for train_index, test_index in kfold.split(train[features], train['Y']):\n",
    "\n",
    "            # make logistic regression model with with C=i+1\n",
    "            logreg = LogisticRegression(C=1)\n",
    "            logreg.fit(\n",
    "                    train.iloc[train_index][[features[i]]],\n",
    "                    train.iloc[train_index]['Y']\n",
    "                    )\n",
    "            pred=logreg.predict(train.iloc[test_index][[features[i]]]\n",
    "                            )\n",
    "\n",
    "            # add metrics to the tables\n",
    "            accs[i,x]=accuracy_score(train.iloc[test_index]['Y'], pred)\n",
    "            recs[i,x]=recall_score(train.iloc[test_index]['Y'], pred, zero_division=0)\n",
    "            x=x+1\n",
    "    \n",
    "    return([accs, recs])\n",
    "        \n",
    "    "
   ]
  },
  {
   "cell_type": "code",
   "execution_count": 18,
   "id": "9ebae87d",
   "metadata": {},
   "outputs": [],
   "source": [
    "metrics_lr2=logreg_2(features=features2)"
   ]
  },
  {
   "cell_type": "code",
   "execution_count": 20,
   "id": "c5524308",
   "metadata": {},
   "outputs": [
    {
     "data": {
      "image/png": "[encoded data removed]",
      "text/plain": [
       "<Figure size 1440x432 with 1 Axes>"
      ]
     },
     "metadata": {
      "needs_background": "light"
     },
     "output_type": "display_data"
    }
   ],
   "source": [
    "plt.figure(figsize=(20,6))\n",
    "\n",
    "plt.scatter(5*features2, \n",
    "            np.transpose(metrics_lr2[0]).reshape(1,-1),\n",
    "           label='Accuracy')\n",
    "\n",
    "plt.scatter(5*features2, \n",
    "            np.transpose(metrics_lr2[1]).reshape(1,-1),\n",
    "           label='Recall')\n",
    "\n",
    "#plt.scatter(range(2,12), np.mean(metrics[1], axis=1), label='Average')\n",
    "\n",
    "plt.title('Metrics for Logistic Regression - by features', fontsize=20)\n",
    "plt.xlabel('Feature')\n",
    "plt.ylabel('Metrics')\n",
    "plt.ylim(-0.1,1.1)\n",
    "\n",
    "plt.legend()\n",
    "plt.grid()\n",
    "\n",
    "plt.show()"
   ]
  },
  {
   "cell_type": "markdown",
   "id": "22e71a4a",
   "metadata": {},
   "source": [
    "So a Logistic regression model basically guesses everybody will pay duly most of the time, but on features PAY_1_TE, AVE_PAY, and UNPAID_MONTHS it actually does some work."
   ]
  },
  {
   "cell_type": "code",
   "execution_count": 21,
   "id": "4768f63c",
   "metadata": {},
   "outputs": [],
   "source": [
    "metrics_lr3=logreg(1,features=['PAY_1_TE','AVE_PAY','UNPAID_MONTHS'])"
   ]
  },
  {
   "cell_type": "code",
   "execution_count": 22,
   "id": "bd5824d5",
   "metadata": {},
   "outputs": [
    {
     "data": {
      "image/png": "[encoded data removed]",
      "text/plain": [
       "<Figure size 432x288 with 1 Axes>"
      ]
     },
     "metadata": {
      "needs_background": "light"
     },
     "output_type": "display_data"
    }
   ],
   "source": [
    "#plt.figure(figsize=(20,6))\n",
    "\n",
    "plt.scatter(5*[1], \n",
    "            np.transpose(metrics_lr3[0]).reshape(1,-1),\n",
    "           label='Accuracy')\n",
    "\n",
    "plt.scatter(5*[1], \n",
    "            np.transpose(metrics_lr3[1]).reshape(1,-1),\n",
    "           label='Recall')\n",
    "\n",
    "#plt.scatter(range(2,12), np.mean(metrics[1], axis=1), label='Average')\n",
    "\n",
    "plt.title('Metrics for Logistic Regression - using the 3 features', fontsize=20)\n",
    "plt.xlabel('Feature')\n",
    "plt.ylabel('Metrics')\n",
    "plt.ylim(-0.1,1.1)\n",
    "\n",
    "plt.grid()\n",
    "\n",
    "plt.legend()\n",
    "\n",
    "plt.show()"
   ]
  },
  {
   "cell_type": "code",
   "execution_count": 23,
   "id": "7a5cd03c",
   "metadata": {},
   "outputs": [
    {
     "data": {
      "text/plain": [
       "0.8202222222222222"
      ]
     },
     "execution_count": 23,
     "metadata": {},
     "output_type": "execute_result"
    }
   ],
   "source": [
    "np.mean(metrics_lr3[0])"
   ]
  },
  {
   "cell_type": "code",
   "execution_count": 24,
   "id": "5230de16",
   "metadata": {},
   "outputs": [
    {
     "data": {
      "text/plain": [
       "0.3690607850970333"
      ]
     },
     "execution_count": 24,
     "metadata": {},
     "output_type": "execute_result"
    }
   ],
   "source": [
    "np.mean(metrics_lr3[1])"
   ]
  },
  {
   "cell_type": "markdown",
   "id": "c9973453",
   "metadata": {},
   "source": [
    "## testing against the validation data"
   ]
  },
  {
   "cell_type": "code",
   "execution_count": 16,
   "id": "f3aef215",
   "metadata": {},
   "outputs": [],
   "source": [
    "LR1=LogisticRegression(C=1)"
   ]
  },
  {
   "cell_type": "code",
   "execution_count": 18,
   "id": "4abc562d",
   "metadata": {},
   "outputs": [],
   "source": [
    "LR1.fit(train[['PAY_1_TE','AVE_PAY','UNPAID_MONTHS']], train['Y'])\n",
    "pred1=LR1.predict(val[['PAY_1_TE','AVE_PAY','UNPAID_MONTHS']])"
   ]
  },
  {
   "cell_type": "code",
   "execution_count": 20,
   "id": "fdee44a4",
   "metadata": {},
   "outputs": [
    {
     "name": "stdout",
     "output_type": "stream",
     "text": [
      "Accuracy score: 0.8213\n",
      "Recall score: 0.3554\n"
     ]
    }
   ],
   "source": [
    "print('Accuracy score: ' + str(np.round(accuracy_score(val['Y'], pred1),4)))\n",
    "print('Recall score: ' + str(np.round(recall_score(val['Y'], pred1),4)))"
   ]
  },
  {
   "cell_type": "code",
   "execution_count": null,
   "id": "d5607417",
   "metadata": {},
   "outputs": [],
   "source": []
  }
 ],
 "metadata": {
  "kernelspec": {
   "display_name": "Python 3 (ipykernel)",
   "language": "python",
   "name": "python3"
  },
  "language_info": {
   "codemirror_mode": {
    "name": "ipython",
    "version": 3
   },
   "file_extension": ".py",
   "mimetype": "text/x-python",
   "name": "python",
   "nbconvert_exporter": "python",
   "pygments_lexer": "ipython3",
   "version": "3.9.7"
  }
 },
 "nbformat": 4,
 "nbformat_minor": 5
}
