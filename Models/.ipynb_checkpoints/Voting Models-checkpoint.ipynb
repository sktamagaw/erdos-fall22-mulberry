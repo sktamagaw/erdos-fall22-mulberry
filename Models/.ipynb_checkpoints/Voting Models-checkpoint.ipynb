{
 "cells": [
  {
   "cell_type": "markdown",
   "id": "4dd7d0da",
   "metadata": {},
   "source": [
    "In this notebook we\n",
    "<ol>\n",
    "    <li> Explore if a voting model seems helpful </li>\n",
    "    <li> Create a voting model based on the most successful kNN, logistic regression, SVC, and random forest models from before </li>\n",
    "    <ol>\n",
    "        <li> Using all the TE features </li>\n",
    "        <li> Using only the 3 important features </li>\n",
    "        <li> Using only the 3 important features on the LR and SVC models </li>\n",
    "    </ol>\n",
    "    </ol>\n",
    "    \n",
    " The last model, when assuming 1 when the votes are tied, performed the best."
   ]
  },
  {
   "cell_type": "markdown",
   "id": "85d5eaa0",
   "metadata": {},
   "source": [
    "## Importing packages and data"
   ]
  },
  {
   "cell_type": "code",
   "execution_count": 1,
   "id": "a00884bf",
   "metadata": {},
   "outputs": [],
   "source": [
    "import pandas as pd\n",
    "import numpy as np"
   ]
  },
  {
   "cell_type": "code",
   "execution_count": 2,
   "id": "a5e04e6d",
   "metadata": {},
   "outputs": [],
   "source": [
    "from sklearn.model_selection import train_test_split, StratifiedKFold"
   ]
  },
  {
   "cell_type": "code",
   "execution_count": 3,
   "id": "ff1be332",
   "metadata": {},
   "outputs": [],
   "source": [
    "from sklearn.preprocessing import StandardScaler\n",
    "from sklearn.pipeline import Pipeline\n",
    "from sklearn.decomposition import PCA\n"
   ]
  },
  {
   "cell_type": "code",
   "execution_count": 4,
   "id": "c1eb4f1d",
   "metadata": {},
   "outputs": [],
   "source": [
    "from sklearn.ensemble import VotingClassifier, RandomForestClassifier\n",
    "from sklearn.svm import SVC\n",
    "from sklearn.neighbors import KNeighborsClassifier\n",
    "from sklearn.linear_model import LogisticRegression"
   ]
  },
  {
   "cell_type": "code",
   "execution_count": 5,
   "id": "3bd9da4b",
   "metadata": {},
   "outputs": [],
   "source": [
    "from matplotlib import pyplot as plt"
   ]
  },
  {
   "cell_type": "code",
   "execution_count": 6,
   "id": "57534de9",
   "metadata": {},
   "outputs": [],
   "source": [
    "from sklearn.metrics import accuracy_score, recall_score"
   ]
  },
  {
   "cell_type": "code",
   "execution_count": 7,
   "id": "b800f755",
   "metadata": {},
   "outputs": [],
   "source": [
    "df=pd.read_csv('../Data/clean_data_3.csv')"
   ]
  },
  {
   "cell_type": "markdown",
   "id": "5c1350cb",
   "metadata": {},
   "source": [
    "## Splitting the data"
   ]
  },
  {
   "cell_type": "code",
   "execution_count": 7,
   "id": "5d14a4a7",
   "metadata": {},
   "outputs": [],
   "source": [
    "train, val = train_test_split(df,\n",
    "                              test_size=0.1,\n",
    "                              stratify=df[\"Y\"],\n",
    "                              shuffle=True,\n",
    "                              random_state=123)"
   ]
  },
  {
   "cell_type": "markdown",
   "id": "6754fd3f",
   "metadata": {},
   "source": [
    "## Helper functions and shortcuts"
   ]
  },
  {
   "cell_type": "code",
   "execution_count": 8,
   "id": "61365014",
   "metadata": {},
   "outputs": [],
   "source": [
    "features2=['SEX_TE', \n",
    "           'EDUCATION_TE', \n",
    "           'MARRIAGE_TE', \n",
    "           'PAY_1_TE',\n",
    "           'PAY_AMT1',\n",
    "           'AGE_BY10_TE', \n",
    "           'AVE_PAY', \n",
    "           'AGE/LIM', \n",
    "           'AVE_BILL_AMT',\n",
    "           'AVE_BILL_AMT/LIM', \n",
    "           'AVE_PAY_AMT',\n",
    "           'AVE_PAY_AMT/LIM',  \n",
    "           'AVE_PAY/BILL', \n",
    "           'UNPAID_MONTHS']"
   ]
  },
  {
   "cell_type": "code",
   "execution_count": 9,
   "id": "da2e1b7e",
   "metadata": {},
   "outputs": [],
   "source": [
    "features_ltd=['PAY_1_TE','AVE_PAY','UNPAID_MONTHS']"
   ]
  },
  {
   "cell_type": "markdown",
   "id": "a4adb486",
   "metadata": {},
   "source": [
    "## Exploring if we think a voting model is feasible"
   ]
  },
  {
   "cell_type": "code",
   "execution_count": 11,
   "id": "44de7f8a",
   "metadata": {},
   "outputs": [],
   "source": [
    "## K nearest neighbors\n",
    "knn = Pipeline([('scale', StandardScaler()),\n",
    "                   ('pca', PCA()),\n",
    "                   ('knn', KNeighborsClassifier(3))])\n",
    "\n",
    "## Logistic Regression\n",
    "lr = LogisticRegression(C=1)\n",
    "\n",
    "## SVC\n",
    "svm = Pipeline([('scale', StandardScaler()),\n",
    "                   ('svm', SVC(C = 1))])\n",
    "\n",
    "## Random Forest\n",
    "rf = RandomForestClassifier(max_depth=6, \n",
    "                            n_estimators=2)\n",
    "\n",
    "##### Fit all of the models #####\n",
    "knn.fit(train[features2], train['Y'])\n",
    "lr.fit(train[['PAY_1_TE','AVE_PAY','UNPAID_MONTHS']], train['Y'])\n",
    "svm.fit(train[['PAY_1_TE','AVE_PAY','UNPAID_MONTHS']], train['Y'])\n",
    "rf.fit(train[features2], train['Y'])\n",
    "  \n",
    "    \n",
    "##### Get predictions #####\n",
    "knn_pred = knn.predict(train[features2])\n",
    "log_pred = lr.predict(train[['PAY_1_TE','AVE_PAY','UNPAID_MONTHS']])\n",
    "svm_pred = svm.predict(train[['PAY_1_TE','AVE_PAY','UNPAID_MONTHS']])\n",
    "rf_pred = rf.predict(train[features2])\n",
    "\n",
    "\n",
    "##### This records what observations in the validation set\n",
    "##### Each model got wrong\n",
    "wrongs = np.zeros((4, len(train)))\n",
    "wrongs[0,:] = knn_pred != train['Y'].values\n",
    "wrongs[1,:] = log_pred != train['Y'].values\n",
    "wrongs[2,:] = svm_pred != train['Y'].values\n",
    "wrongs[3,:] = rf_pred != train['Y'].values"
   ]
  },
  {
   "cell_type": "code",
   "execution_count": 21,
   "id": "8cc2efd8",
   "metadata": {},
   "outputs": [
    {
     "data": {
      "image/png": "[encoded data removed]",
      "text/plain": [
       "<Figure size 2160x2880 with 1 Axes>"
      ]
     },
     "metadata": {
      "needs_background": "light"
     },
     "output_type": "display_data"
    }
   ],
   "source": [
    "### A bright spot indicates the model was wrong for that observation\n",
    "plt.figure(figsize=(30,40))\n",
    "plt.imshow(wrongs[:,0:100])\n",
    "\n",
    "plt.xticks([])\n",
    "plt.yticks([0,1,2,3], \n",
    "              [\"KNN\", \"Log. Reg.\", \"SVM\", \"R.F.\"],\n",
    "              fontsize=13)\n",
    "plt.show()"
   ]
  },
  {
   "cell_type": "code",
   "execution_count": 22,
   "id": "e396b800",
   "metadata": {
    "scrolled": true
   },
   "outputs": [
    {
     "data": {
      "image/png": "[encoded data removed]",
      "text/plain": [
       "<Figure size 2160x2880 with 1 Axes>"
      ]
     },
     "metadata": {
      "needs_background": "light"
     },
     "output_type": "display_data"
    }
   ],
   "source": [
    "plt.figure(figsize=(30,40))\n",
    "plt.imshow(wrongs[:,100:200])\n",
    "\n",
    "plt.xticks([])\n",
    "plt.yticks([0,1,2,3], \n",
    "              [\"KNN\", \"Log. Reg.\", \"SVM\", \"R.F.\"],\n",
    "              fontsize=13)\n",
    "plt.show()"
   ]
  },
  {
   "cell_type": "code",
   "execution_count": 23,
   "id": "2f5d913d",
   "metadata": {},
   "outputs": [
    {
     "data": {
      "image/png": "[encoded data removed]",
      "text/plain": [
       "<Figure size 2160x2880 with 1 Axes>"
      ]
     },
     "metadata": {
      "needs_background": "light"
     },
     "output_type": "display_data"
    }
   ],
   "source": [
    "plt.figure(figsize=(30,40))\n",
    "plt.imshow(wrongs[:,200:300])\n",
    "\n",
    "plt.xticks([])\n",
    "plt.yticks([0,1,2,3], \n",
    "              [\"KNN\", \"Log. Reg.\", \"SVM\", \"R.F.\"],\n",
    "              fontsize=13)\n",
    "plt.show()"
   ]
  },
  {
   "cell_type": "markdown",
   "id": "cffb1ad7",
   "metadata": {},
   "source": [
    "I feel like kNN is behaving very differently from the others, but most of the time all the models are wrong together."
   ]
  },
  {
   "cell_type": "markdown",
   "id": "14353519",
   "metadata": {},
   "source": [
    "## Building a voting model"
   ]
  },
  {
   "cell_type": "code",
   "execution_count": 24,
   "id": "9eff53f8",
   "metadata": {},
   "outputs": [],
   "source": [
    "def vote(features_1,wts=[1,1,1,1], splits=5):\n",
    "    '''creates a voting classifier using the 4 models discussed previously\n",
    "    uses feature_1 \n",
    "    uses weights=wts\n",
    "    outputs a matrix of accuracy and recall for a splits-fold split'''\n",
    "    \n",
    "    accs=np.zeros(splits)\n",
    "    recs = np.zeros(splits)\n",
    "    \n",
    "    kfold=StratifiedKFold(n_splits=splits,\n",
    "                    shuffle=True,\n",
    "                    random_state=123)\n",
    "    \n",
    "        \n",
    "    x=0\n",
    "    for train_index, test_index in kfold.split(train[features_1], train['Y']):\n",
    "\n",
    "        # make model\n",
    "        vote=VotingClassifier([('lr', Pipeline([('scale', StandardScaler()),\n",
    "                                              ('PCA', PCA()),\n",
    "                                              ('logreg', LogisticRegression(C=1))\n",
    "                                              ])),\n",
    "                               ('knn',Pipeline([('scale', StandardScaler()),\n",
    "                                               ('PCA', PCA()),\n",
    "                                               ('kNN', KNeighborsClassifier(n_neighbors=3))])),\n",
    "                               ('rf', RandomForestClassifier(n_estimators=2,\n",
    "                                                             max_depth=6)),\n",
    "                               ('svc', Pipeline([('scale', StandardScaler()),\n",
    "                                                 ('svm', SVC(max_iter=100000))]))\n",
    "                              ],\n",
    "                             weights=wts)\n",
    "        \n",
    "        vote.fit(train.iloc[train_index][features_1], train.iloc[train_index]['Y'])\n",
    "        \n",
    "        pred=vote.predict(train.iloc[test_index][features_1])\n",
    "\n",
    "        # add metrics to the tables\n",
    "        accs[x]=accuracy_score(train.iloc[test_index]['Y'], pred)\n",
    "        recs[x]=recall_score(train.iloc[test_index]['Y'], pred, zero_division=0)\n",
    "        x=x+1\n",
    "    \n",
    "    return([accs, recs])"
   ]
  },
  {
   "cell_type": "code",
   "execution_count": 25,
   "id": "1f4cc0f4",
   "metadata": {},
   "outputs": [],
   "source": [
    "metrics_1=vote(features2)"
   ]
  },
  {
   "cell_type": "code",
   "execution_count": 32,
   "id": "2bce5003",
   "metadata": {
    "scrolled": true
   },
   "outputs": [
    {
     "name": "stdout",
     "output_type": "stream",
     "text": [
      "Using all features:\n",
      "Accuracy\n",
      "0.8188\n",
      "Recall\n",
      "0.33\n"
     ]
    }
   ],
   "source": [
    "print('Using all features:')\n",
    "print('Accuracy')\n",
    "print(np.round(np.mean(metrics_1[0]),4))\n",
    "print('Recall')\n",
    "print(np.round(np.mean(metrics_1[1]),4))"
   ]
  },
  {
   "cell_type": "code",
   "execution_count": 33,
   "id": "d616b56f",
   "metadata": {},
   "outputs": [],
   "source": [
    "metrics_2=vote(features_ltd)"
   ]
  },
  {
   "cell_type": "code",
   "execution_count": 34,
   "id": "e4766653",
   "metadata": {},
   "outputs": [
    {
     "data": {
      "text/plain": [
       "[array([0.81648148, 0.81740741, 0.81444444, 0.83      , 0.82296296]),\n",
       " array([0.33807531, 0.34895397, 0.33082077, 0.38023451, 0.38693467])]"
      ]
     },
     "execution_count": 34,
     "metadata": {},
     "output_type": "execute_result"
    }
   ],
   "source": [
    "metrics_2"
   ]
  },
  {
   "cell_type": "code",
   "execution_count": 36,
   "id": "7a83c228",
   "metadata": {},
   "outputs": [
    {
     "name": "stdout",
     "output_type": "stream",
     "text": [
      "Using limited features:\n",
      "Accuracy\n",
      "0.8203\n",
      "Recall\n",
      "0.357\n"
     ]
    }
   ],
   "source": [
    "print('Using limited features:')\n",
    "print('Accuracy')\n",
    "print(np.round(np.mean(metrics_2[0]),4))\n",
    "print('Recall')\n",
    "print(np.round(np.mean(metrics_2[1]),4))"
   ]
  },
  {
   "cell_type": "code",
   "execution_count": 37,
   "id": "2e101da1",
   "metadata": {},
   "outputs": [
    {
     "data": {
      "text/plain": [
       "[array([0.80611111, 0.80944444, 0.80537037, 0.82074074, 0.81240741]),\n",
       " array([0.27196653, 0.27698745, 0.28056951, 0.31574539, 0.30904523])]"
      ]
     },
     "execution_count": 37,
     "metadata": {},
     "output_type": "execute_result"
    }
   ],
   "source": [
    "metrics_3 = vote(features2, wts=[1,3,1,1])\n",
    "metrics_3"
   ]
  },
  {
   "cell_type": "code",
   "execution_count": 38,
   "id": "3d85e4f5",
   "metadata": {
    "scrolled": true
   },
   "outputs": [
    {
     "name": "stdout",
     "output_type": "stream",
     "text": [
      "Using all features and weights:\n",
      "Accuracy\n",
      "0.8108\n",
      "Recall\n",
      "0.2909\n"
     ]
    }
   ],
   "source": [
    "print('Using all features and weights:')\n",
    "print('Accuracy')\n",
    "print(np.round(np.mean(metrics_3[0]),4))\n",
    "print('Recall')\n",
    "print(np.round(np.mean(metrics_3[1]),4))"
   ]
  },
  {
   "cell_type": "markdown",
   "id": "6fc66cd0",
   "metadata": {},
   "source": [
    "I was not expecting recall to go down while weighting kNN higher"
   ]
  },
  {
   "cell_type": "code",
   "execution_count": 39,
   "id": "2a73fb2a",
   "metadata": {},
   "outputs": [
    {
     "name": "stdout",
     "output_type": "stream",
     "text": [
      "weights: [1, 0, 1, 1]\n",
      "0.8194814814814816\n",
      "0.34712642711465275\n",
      "\n",
      "weights: [1, 0.25, 1, 1]\n",
      "0.8207777777777778\n",
      "0.35298388735869024\n",
      "\n",
      "weights: [1, 0.5, 1, 1]\n",
      "0.8205925925925925\n",
      "0.3554988330775215\n",
      "\n",
      "weights: [1, -0.75, 1, 1]\n",
      "0.820037037037037\n",
      "0.3479612848061787\n",
      "\n",
      "weights: [1, 1, 1, 1]\n",
      "0.8186666666666665\n",
      "0.3277021088707134\n",
      "\n",
      "weights: [1, 2, 1, 1]\n",
      "0.8171111111111111\n",
      "0.34327551285016433\n",
      "\n",
      "weights: [1, 3, 1, 1]\n",
      "0.8113333333333334\n",
      "0.2938748133975316\n",
      "\n"
     ]
    }
   ],
   "source": [
    "for i in [0,0.25,0.5,-.75,1,2,3]:\n",
    "    metrics=vote(features2, wts=[1,i,1,1])\n",
    "    print('weights: ' + str([1,i,1,1]))\n",
    "    print(np.mean(metrics[0]))\n",
    "    print(np.mean(metrics[1]))\n",
    "    print()"
   ]
  },
  {
   "cell_type": "code",
   "execution_count": 40,
   "id": "192ca9ad",
   "metadata": {},
   "outputs": [
    {
     "name": "stdout",
     "output_type": "stream",
     "text": [
      "weights: [1, 0, 1, 1]\n",
      "0.8198518518518518\n",
      "0.36554417835341285\n",
      "\n",
      "weights: [1, 0.25, 1, 1]\n",
      "0.8197407407407408\n",
      "0.3637016322897612\n",
      "\n",
      "weights: [1, 0.5, 1, 1]\n",
      "0.8197407407407408\n",
      "0.3637016322897612\n",
      "\n",
      "weights: [1, -0.75, 1, 1]\n",
      "0.8198148148148148\n",
      "0.3623630004976065\n",
      "\n",
      "weights: [1, 1, 1, 1]\n",
      "0.8198888888888888\n",
      "0.3534868204341092\n",
      "\n",
      "weights: [1, 2, 1, 1]\n",
      "0.8185925925925928\n",
      "0.3630321762228156\n",
      "\n",
      "weights: [1, 3, 1, 1]\n",
      "0.813962962962963\n",
      "0.2948743718592965\n",
      "\n"
     ]
    }
   ],
   "source": [
    "for i in [0,0.25,0.5,-.75,1,2,3]:\n",
    "    metrics=vote(features_ltd, wts=[1,i,1,1])\n",
    "    print('weights: ' + str([1,i,1,1]))\n",
    "    print(np.mean(metrics[0]))\n",
    "    print(np.mean(metrics[1]))\n",
    "    print()"
   ]
  },
  {
   "cell_type": "markdown",
   "id": "14642074",
   "metadata": {},
   "source": [
    "## Building a second voting model that uses different features for different voters"
   ]
  },
  {
   "cell_type": "code",
   "execution_count": 47,
   "id": "2cb41aab",
   "metadata": {},
   "outputs": [
    {
     "name": "stdout",
     "output_type": "stream",
     "text": [
      "[0.12817961]\n",
      "[0.74091092]\n",
      "[0.12759393]\n",
      "[0.07245489]\n",
      "[0.14387236]\n",
      "[0.66019199]\n",
      "[0.16743901]\n",
      "[0.32199833]\n",
      "[0.25554126]\n",
      "[0.5811914]\n",
      "[0.89676552]\n",
      "[0.07184739]\n",
      "[0.15458375]\n",
      "[0.0841257]\n",
      "[0.83183766]\n",
      "[0.49491863]\n",
      "[0.86071964]\n",
      "[0.22422648]\n",
      "[0.80602765]\n",
      "[0.2586946]\n"
     ]
    }
   ],
   "source": [
    "for i in range(20):\n",
    "    print(np.random.rand(1))"
   ]
  },
  {
   "cell_type": "code",
   "execution_count": 65,
   "id": "59c399ee",
   "metadata": {},
   "outputs": [],
   "source": [
    "def vote2(P,features_1=features2, features_2=features_ltd,wts=[1,1], splits=5):\n",
    "    '''creates a voting classifier using the 4 models discussed previously\n",
    "    uses feature_1 \n",
    "    uses weights=wts\n",
    "    outputs a matrix of accuracy and recall for a splits-fold split'''\n",
    "    \n",
    "    accs=np.zeros(splits)\n",
    "    recs = np.zeros(splits)\n",
    "    counts=np.zeros(splits)\n",
    "    \n",
    "    kfold=StratifiedKFold(n_splits=splits,\n",
    "                    shuffle=True,\n",
    "                    random_state=123)\n",
    "    \n",
    "        \n",
    "    x=0\n",
    "    for train_index, test_index in kfold.split(train[features_1], train['Y']):\n",
    "        \n",
    "        #make the individual models\n",
    "        lr=Pipeline([('scale', StandardScaler()),\n",
    "                                              ('PCA', PCA()),\n",
    "                                              ('logreg', LogisticRegression(C=1))\n",
    "                                              ])\n",
    "        knn=Pipeline([('scale', StandardScaler()),\n",
    "                                               ('PCA', PCA()),\n",
    "                                               ('kNN', KNeighborsClassifier(n_neighbors=3))])\n",
    "        rf=RandomForestClassifier(n_estimators=2,\n",
    "                                                             max_depth=6)\n",
    "        svc=Pipeline([('scale', StandardScaler()),\n",
    "                                                 ('svm', SVC(max_iter=100000))])\n",
    "        \n",
    "        \n",
    "        lr.fit(train.iloc[train_index][features_2], train.iloc[train_index]['Y'])\n",
    "        knn.fit(train.iloc[train_index][features_1], train.iloc[train_index]['Y'])\n",
    "        rf.fit(train.iloc[train_index][features_1], train.iloc[train_index]['Y'])\n",
    "        svc.fit(train.iloc[train_index][features_2], train.iloc[train_index]['Y'])\n",
    "        \n",
    "        \n",
    "        pred_lr=lr.predict(train.iloc[test_index][features_2])\n",
    "        pred_knn=knn.predict(train.iloc[test_index][features_1])\n",
    "        pred_rf=rf.predict(train.iloc[test_index][features_1])\n",
    "        pred_svc=svc.predict(train.iloc[test_index][features_2])\n",
    "        \n",
    "        count=0\n",
    "        #vote!!\n",
    "        pred=[]\n",
    "        for i in range(len(test_index)):\n",
    "            votes=pred_lr[i] + pred_knn[i]+ pred_rf[i] + pred_svc[i]\n",
    "            if votes > 2:\n",
    "                pred.append(1)\n",
    "            if votes <2:\n",
    "                pred.append(0)\n",
    "            if votes == 2:\n",
    "                count=count+1\n",
    "                guess=np.random.rand(1)\n",
    "                if guess<=P:\n",
    "                    pred.append(1)\n",
    "                else:\n",
    "                    pred.append(0)\n",
    "        \n",
    "\n",
    "        # add metrics to the tables\n",
    "        accs[x]=accuracy_score(train.iloc[test_index]['Y'], pred)\n",
    "        recs[x]=recall_score(train.iloc[test_index]['Y'], pred, zero_division=0)\n",
    "        counts[x]=count\n",
    "        x=x+1\n",
    "    \n",
    "    return([accs, recs, counts])"
   ]
  },
  {
   "cell_type": "code",
   "execution_count": 55,
   "id": "4a3ee0e4",
   "metadata": {},
   "outputs": [],
   "source": [
    "metrics_4= vote2(0.5)"
   ]
  },
  {
   "cell_type": "code",
   "execution_count": 56,
   "id": "0065e7c7",
   "metadata": {
    "scrolled": true
   },
   "outputs": [
    {
     "data": {
      "text/plain": [
       "[array([0.81574074, 0.81814815, 0.8137037 , 0.82944444, 0.82462963]),\n",
       " array([0.34728033, 0.34225941, 0.34422111, 0.38358459, 0.37772194])]"
      ]
     },
     "execution_count": 56,
     "metadata": {},
     "output_type": "execute_result"
    }
   ],
   "source": [
    "metrics_4"
   ]
  },
  {
   "cell_type": "code",
   "execution_count": 68,
   "id": "280d0334",
   "metadata": {},
   "outputs": [
    {
     "name": "stdout",
     "output_type": "stream",
     "text": [
      "Practice with vote2\n",
      "Accuracy\n",
      "0.8203\n",
      "Recall\n",
      "0.359\n"
     ]
    }
   ],
   "source": [
    "print('Practice with vote2')\n",
    "print('Accuracy')\n",
    "print(np.round(np.mean(metrics_4[0]),4))\n",
    "print('Recall')\n",
    "print(np.round(np.mean(metrics_4[1]),4))\n"
   ]
  },
  {
   "cell_type": "code",
   "execution_count": 61,
   "id": "b4e71df8",
   "metadata": {},
   "outputs": [],
   "source": [
    "main_p= train['Y'].value_counts()[1]/len(train)"
   ]
  },
  {
   "cell_type": "code",
   "execution_count": 70,
   "id": "f6cd55fa",
   "metadata": {},
   "outputs": [
    {
     "name": "stdout",
     "output_type": "stream",
     "text": [
      "P=0\n",
      "Accuracy\n",
      "0.82\n",
      "Recall\n",
      "0.3436\n",
      "counts\n",
      "[ 63. 114.  94.  81.  76.]\n",
      "\n",
      "P=0.22118518518518518\n",
      "Accuracy\n",
      "0.8188\n",
      "Recall\n",
      "0.348\n",
      "counts\n",
      "[ 97.  88.  82. 106.  70.]\n",
      "\n",
      "P=0.5\n",
      "Accuracy\n",
      "0.819\n",
      "Recall\n",
      "0.3609\n",
      "counts\n",
      "[ 94.  93.  95. 130.  86.]\n",
      "\n",
      "P=0.7788148148148148\n",
      "Accuracy\n",
      "0.8193\n",
      "Recall\n",
      "0.3726\n",
      "counts\n",
      "[112.  79.  98. 102.  72.]\n",
      "\n",
      "P=1\n",
      "Accuracy\n",
      "0.82\n",
      "Recall\n",
      "0.3815\n",
      "counts\n",
      "[81. 85. 82. 95. 59.]\n",
      "\n"
     ]
    }
   ],
   "source": [
    "for p in [0,main_p, 0.5, 1-main_p, 1]:\n",
    "        temp_metrics=vote2(p)\n",
    "        print('P='+str(p))\n",
    "        print('Accuracy')\n",
    "        print(np.round(np.mean(temp_metrics[0]),4))\n",
    "        print('Recall')\n",
    "        print(np.round(np.mean(temp_metrics[1]),4))\n",
    "        print('counts')\n",
    "        print(temp_metrics[2])\n",
    "        print()"
   ]
  },
  {
   "cell_type": "markdown",
   "id": "f6772baa",
   "metadata": {},
   "source": [
    "## testing against the validation data"
   ]
  },
  {
   "cell_type": "code",
   "execution_count": 74,
   "id": "fa643853",
   "metadata": {},
   "outputs": [],
   "source": [
    "lr=Pipeline([('scale', StandardScaler()),\n",
    "              ('PCA', PCA()),\n",
    "              ('logreg', LogisticRegression(C=1))\n",
    "              ])\n",
    "knn=Pipeline([('scale', StandardScaler()),\n",
    "               ('PCA', PCA()),\n",
    "               ('kNN', KNeighborsClassifier(n_neighbors=3))])\n",
    "rf=RandomForestClassifier(n_estimators=2,\n",
    "                         max_depth=6)\n",
    "svc=Pipeline([('scale', StandardScaler()),\n",
    "             ('svm', SVC(max_iter=100000))])\n",
    "\n",
    "\n",
    "lr.fit(train[features_ltd], train['Y'])\n",
    "knn.fit(train[features2], train['Y'])\n",
    "rf.fit(train[features2], train['Y'])\n",
    "svc.fit(train[features_ltd], train['Y'])\n",
    "\n",
    "\n",
    "pred_lr=lr.predict(val[features_ltd])\n",
    "pred_knn=knn.predict(val[features2])\n",
    "pred_rf=rf.predict(val[features2])\n",
    "pred_svc=svc.predict(val[features_ltd])\n",
    "\n",
    "\n",
    "#vote!!\n",
    "pred=[]\n",
    "for i in range(len(val)):\n",
    "    votes=pred_lr[i] + pred_knn[i]+ pred_rf[i] + pred_svc[i]\n",
    "    if votes >= 2:\n",
    "        pred.append(1)\n",
    "    if votes <2:\n",
    "        pred.append(0)\n",
    "\n",
    "\n"
   ]
  },
  {
   "cell_type": "code",
   "execution_count": 76,
   "id": "cb62dfc2",
   "metadata": {},
   "outputs": [
    {
     "name": "stdout",
     "output_type": "stream",
     "text": [
      "Accuracy score: 0.8203\n",
      "Recall score: 0.378\n"
     ]
    }
   ],
   "source": [
    "print('Accuracy score: ' + str(np.round(accuracy_score(val['Y'], pred),4)))\n",
    "print('Recall score: ' + str(np.round(recall_score(val['Y'], pred),4)))"
   ]
  },
  {
   "cell_type": "code",
   "execution_count": null,
   "id": "b7d4825d",
   "metadata": {},
   "outputs": [],
   "source": []
  }
 ],
 "metadata": {
  "kernelspec": {
   "display_name": "Python 3 (ipykernel)",
   "language": "python",
   "name": "python3"
  },
  "language_info": {
   "codemirror_mode": {
    "name": "ipython",
    "version": 3
   },
   "file_extension": ".py",
   "mimetype": "text/x-python",
   "name": "python",
   "nbconvert_exporter": "python",
   "pygments_lexer": "ipython3",
   "version": "3.9.7"
  }
 },
 "nbformat": 4,
 "nbformat_minor": 5
}
