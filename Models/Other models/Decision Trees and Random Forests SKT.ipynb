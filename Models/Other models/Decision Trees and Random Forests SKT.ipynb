{
 "cells": [
  {
   "cell_type": "markdown",
   "id": "5fffecfa",
   "metadata": {},
   "source": [
    "In this notebook we build a random forest model using the features found to be important or slightly important during EDA\n",
    "\n",
    "We want max_depth=6\n",
    "\n",
    "n_estimators doesn't seem to matter, so we might as well use 10"
   ]
  },
  {
   "cell_type": "markdown",
   "id": "dc7abf8b",
   "metadata": {},
   "source": [
    "## Importing Packages and Data"
   ]
  },
  {
   "cell_type": "code",
   "execution_count": 1,
   "id": "e166dd8d",
   "metadata": {},
   "outputs": [],
   "source": [
    "import pandas as pd\n",
    "import numpy as np"
   ]
  },
  {
   "cell_type": "code",
   "execution_count": 2,
   "id": "e71e0f07",
   "metadata": {},
   "outputs": [],
   "source": [
    "from sklearn.model_selection import StratifiedKFold"
   ]
  },
  {
   "cell_type": "code",
   "execution_count": 3,
   "id": "810dc59f",
   "metadata": {},
   "outputs": [],
   "source": [
    "from sklearn.model_selection import train_test_split\n",
    "from sklearn.metrics import accuracy_score, recall_score"
   ]
  },
  {
   "cell_type": "code",
   "execution_count": 4,
   "id": "bdbff2b7",
   "metadata": {},
   "outputs": [],
   "source": [
    "from sklearn.tree import DecisionTreeClassifier\n",
    "from sklearn.ensemble import RandomForestClassifier"
   ]
  },
  {
   "cell_type": "code",
   "execution_count": 5,
   "id": "b048fe2c",
   "metadata": {},
   "outputs": [],
   "source": [
    "from matplotlib import pyplot as plt"
   ]
  },
  {
   "cell_type": "code",
   "execution_count": 6,
   "id": "8bad70dc",
   "metadata": {},
   "outputs": [],
   "source": [
    "df=pd.read_csv('../Data/clean_data_2.csv')"
   ]
  },
  {
   "cell_type": "markdown",
   "id": "f6040b3d",
   "metadata": {},
   "source": [
    "## Important shortcuts and helper functions"
   ]
  },
  {
   "cell_type": "code",
   "execution_count": 7,
   "id": "8fbe449f",
   "metadata": {},
   "outputs": [],
   "source": [
    "features1=['SEX', \n",
    "           'EDUCATION', \n",
    "           'MARRIAGE', \n",
    "           'PAY_1',\n",
    "           'PAY_AMT1',\n",
    "           'AGE_BY10', \n",
    "           'AVE_PAY', \n",
    "           'AGE/LIM', \n",
    "           'AVE_BILL_AMT',\n",
    "           'AVE_BILL_AMT/LIM', \n",
    "           'AVE_PAY_AMT',\n",
    "           'AVE_PAY_AMT/LIM',  \n",
    "           'AVE_PAY/BILL', \n",
    "           'UNPAID_MONTHS']"
   ]
  },
  {
   "cell_type": "markdown",
   "id": "5a0eb1e1",
   "metadata": {},
   "source": [
    "## Splitting the data"
   ]
  },
  {
   "cell_type": "code",
   "execution_count": 8,
   "id": "962d2074",
   "metadata": {},
   "outputs": [],
   "source": [
    "train, val = train_test_split(df,\n",
    "                              test_size=0.1,\n",
    "                              stratify=df[\"Y\"],\n",
    "                              shuffle=True,\n",
    "                              random_state=123)"
   ]
  },
  {
   "cell_type": "markdown",
   "id": "31f7af67",
   "metadata": {},
   "source": [
    "## finding the n_estimators and max_depth"
   ]
  },
  {
   "cell_type": "markdown",
   "id": "4b78c92d",
   "metadata": {},
   "source": [
    "#### max_depth"
   ]
  },
  {
   "cell_type": "code",
   "execution_count": 9,
   "id": "6332a0e1",
   "metadata": {},
   "outputs": [],
   "source": [
    "splits=5\n",
    "j=10\n",
    "\n",
    "kfold=StratifiedKFold(n_splits=splits,\n",
    "                    shuffle=True,\n",
    "                    random_state=123)\n",
    "    \n",
    "accs=np.zeros((j,splits))\n",
    "recs = np.zeros((j,splits))\n",
    "for i in range(j):\n",
    "    x=0\n",
    "    for train_index, test_index in kfold.split(train[features1], train['Y']):\n",
    "\n",
    "        # make random forest model with k=i+1\n",
    "        rf = RandomForestClassifier(max_depth=i+2)\n",
    "        rf.fit(\n",
    "                train.iloc[train_index][features1],\n",
    "                train.iloc[train_index]['Y']\n",
    "                    )\n",
    "        pred=rf.predict(train.iloc[test_index][features1]\n",
    "                        )\n",
    "\n",
    "        # add metrics to the tables\n",
    "        accs[i,x]=accuracy_score(train.iloc[test_index]['Y'], pred)\n",
    "        recs[i,x]=recall_score(train.iloc[test_index]['Y'], pred, zero_division=0)\n",
    "        x=x+1"
   ]
  },
  {
   "cell_type": "code",
   "execution_count": 10,
   "id": "5bbd23ff",
   "metadata": {},
   "outputs": [
    {
     "data": {
      "text/plain": [
       "10"
      ]
     },
     "execution_count": 10,
     "metadata": {},
     "output_type": "execute_result"
    }
   ],
   "source": [
    "len(accs)"
   ]
  },
  {
   "cell_type": "code",
   "execution_count": 11,
   "id": "c48b17fd",
   "metadata": {},
   "outputs": [
    {
     "data": {
      "image/png": "[encoded data removed]",
      "text/plain": [
       "<Figure size 432x288 with 1 Axes>"
      ]
     },
     "metadata": {
      "needs_background": "light"
     },
     "output_type": "display_data"
    }
   ],
   "source": [
    "#plt.figure(figsize=(8,6))\n",
    "\n",
    "plt.scatter(5*[2,3,4,5,6,7,8,9,10,11], \n",
    "            np.transpose(accs).reshape(1,-1),\n",
    "           label='Accuracy')\n",
    "\n",
    "plt.scatter(5*[2,3,4,5,6,7,8,9,10,11], \n",
    "            np.transpose(recs).reshape(1,-1),\n",
    "           label='Recall')\n",
    "\n",
    "#plt.scatter(range(2,12), np.mean(metrics[1], axis=1), label='Average')\n",
    "\n",
    "plt.title('Metrics for Max_Depth', fontsize=20)\n",
    "plt.xlabel('Max_Depth')\n",
    "plt.ylabel('Metrics')\n",
    "plt.ylim(-0.1,1.1)\n",
    "\n",
    "plt.legend()\n",
    "\n",
    "plt.show()"
   ]
  },
  {
   "cell_type": "markdown",
   "id": "4d56abe6",
   "metadata": {},
   "source": [
    "#### n_estimators"
   ]
  },
  {
   "cell_type": "code",
   "execution_count": 12,
   "id": "f2af38f5",
   "metadata": {},
   "outputs": [],
   "source": [
    "splits=5\n",
    "j=20\n",
    "\n",
    "kfold=StratifiedKFold(n_splits=splits,\n",
    "                    shuffle=True,\n",
    "                    random_state=123)\n",
    "    \n",
    "accs=np.zeros((j,splits))\n",
    "recs = np.zeros((j,splits))\n",
    "for i in range(j):\n",
    "    x=0\n",
    "    for train_index, test_index in kfold.split(train[features1], train['Y']):\n",
    "\n",
    "        # make random forest model with k=i+1\n",
    "        rf = RandomForestClassifier(n_estimators=10+10*i,\n",
    "                                    max_depth=6\n",
    "                                    )\n",
    "        rf.fit(\n",
    "                train.iloc[train_index][features1],\n",
    "                train.iloc[train_index]['Y']\n",
    "                    )\n",
    "        pred=rf.predict(train.iloc[test_index][features1]\n",
    "                        )\n",
    "\n",
    "        # add metrics to the tables\n",
    "        accs[i,x]=accuracy_score(train.iloc[test_index]['Y'], pred)\n",
    "        recs[i,x]=recall_score(train.iloc[test_index]['Y'], pred, zero_division=0)\n",
    "        x=x+1"
   ]
  },
  {
   "cell_type": "code",
   "execution_count": 13,
   "id": "ae26b489",
   "metadata": {},
   "outputs": [
    {
     "data": {
      "image/png": "[encoded data removed]",
      "text/plain": [
       "<Figure size 432x288 with 1 Axes>"
      ]
     },
     "metadata": {
      "needs_background": "light"
     },
     "output_type": "display_data"
    }
   ],
   "source": [
    "#plt.figure(figsize=(8,6))\n",
    "\n",
    "plt.scatter(5*[10+10*i for i in range(20)], \n",
    "            np.transpose(accs).reshape(1,-1),\n",
    "           label='Accuracy')\n",
    "\n",
    "plt.scatter(5*[10+10*i for i in range(20)], \n",
    "            np.transpose(recs).reshape(1,-1),\n",
    "           label='Recall')\n",
    "\n",
    "#plt.scatter(range(2,12), np.mean(metrics[1], axis=1), label='Average')\n",
    "\n",
    "plt.title('Metrics for n_estimaters', fontsize=20)\n",
    "plt.xlabel('Max_Depth')\n",
    "plt.ylabel('Metrics')\n",
    "plt.ylim(-0.1,1.1)\n",
    "\n",
    "plt.legend()\n",
    "\n",
    "plt.show()"
   ]
  },
  {
   "cell_type": "code",
   "execution_count": 14,
   "id": "326845de",
   "metadata": {},
   "outputs": [],
   "source": [
    "#Since we didn't see a difference in n_estimators above, we'll use the values 2-10 to see if that makes a difference\n",
    "splits=5\n",
    "j=8\n",
    "\n",
    "kfold=StratifiedKFold(n_splits=splits,\n",
    "                    shuffle=True,\n",
    "                    random_state=123)\n",
    "    \n",
    "accs_2=np.zeros((j,splits))\n",
    "recs_2 = np.zeros((j,splits))\n",
    "for i in range(j):\n",
    "    x=0\n",
    "    for train_index, test_index in kfold.split(train[features1], train['Y']):\n",
    "\n",
    "        # make random forest model with k=i+2\n",
    "        rf = RandomForestClassifier(n_estimators=i+2,\n",
    "                                    max_depth=6\n",
    "                                    )\n",
    "        rf.fit(\n",
    "                train.iloc[train_index][features1],\n",
    "                train.iloc[train_index]['Y']\n",
    "                    )\n",
    "        pred=rf.predict(train.iloc[test_index][features1]\n",
    "                        )\n",
    "\n",
    "        # add metrics to the tables\n",
    "        accs_2[i,x]=accuracy_score(train.iloc[test_index]['Y'], pred)\n",
    "        recs_2[i,x]=recall_score(train.iloc[test_index]['Y'], pred, zero_division=0)\n",
    "        x=x+1"
   ]
  },
  {
   "cell_type": "code",
   "execution_count": 15,
   "id": "6e480ffa",
   "metadata": {},
   "outputs": [
    {
     "data": {
      "image/png": "[encoded data removed]",
      "text/plain": [
       "<Figure size 432x288 with 1 Axes>"
      ]
     },
     "metadata": {
      "needs_background": "light"
     },
     "output_type": "display_data"
    }
   ],
   "source": [
    "#plt.figure(figsize=(8,6))\n",
    "\n",
    "plt.scatter(5*[i+2 for i in range(8)], \n",
    "            np.transpose(accs_2).reshape(1,-1),\n",
    "           label='Accuracy')\n",
    "\n",
    "plt.scatter(5*[i+2 for i in range(8)], \n",
    "            np.transpose(recs_2).reshape(1,-1),\n",
    "           label='Recall')\n",
    "\n",
    "#plt.scatter(range(2,12), np.mean(metrics[1], axis=1), label='Average')\n",
    "\n",
    "plt.title('Metrics for n_estimaters', fontsize=20)\n",
    "plt.xlabel('n_estimators')\n",
    "plt.ylabel('Metrics')\n",
    "plt.ylim(-0.1,1.1)\n",
    "\n",
    "plt.legend()\n",
    "\n",
    "plt.show()"
   ]
  },
  {
   "cell_type": "code",
   "execution_count": 16,
   "id": "318d1e5e",
   "metadata": {},
   "outputs": [
    {
     "data": {
      "text/plain": [
       "0.8158518518518519"
      ]
     },
     "execution_count": 16,
     "metadata": {},
     "output_type": "execute_result"
    }
   ],
   "source": [
    "np.mean(accs_2[0])"
   ]
  },
  {
   "cell_type": "code",
   "execution_count": 17,
   "id": "4df47608",
   "metadata": {},
   "outputs": [
    {
     "data": {
      "text/plain": [
       "0.34694925113713615"
      ]
     },
     "execution_count": 17,
     "metadata": {},
     "output_type": "execute_result"
    }
   ],
   "source": [
    "np.mean(recs_2[0])"
   ]
  },
  {
   "cell_type": "markdown",
   "id": "6a1e2783",
   "metadata": {},
   "source": [
    "## testing against the validation data"
   ]
  },
  {
   "cell_type": "code",
   "execution_count": 18,
   "id": "4d6ec9b9",
   "metadata": {},
   "outputs": [],
   "source": [
    "rf1= RandomForestClassifier(n_estimators=2,\n",
    "                            max_depth=6\n",
    "                            )"
   ]
  },
  {
   "cell_type": "code",
   "execution_count": 20,
   "id": "c48dbb85",
   "metadata": {},
   "outputs": [],
   "source": [
    "rf1.fit(train[features1], train['Y'])\n",
    "pred1=rf1.predict(val[features1])"
   ]
  },
  {
   "cell_type": "code",
   "execution_count": 21,
   "id": "51645711",
   "metadata": {},
   "outputs": [
    {
     "name": "stdout",
     "output_type": "stream",
     "text": [
      "Accuracy score: 0.822\n",
      "Recall score: 0.375\n"
     ]
    }
   ],
   "source": [
    "print('Accuracy score: ' + str(np.round(accuracy_score(val['Y'], pred1),4)))\n",
    "print('Recall score: ' + str(np.round(recall_score(val['Y'], pred1),4)))"
   ]
  },
  {
   "cell_type": "code",
   "execution_count": null,
   "id": "c878791e",
   "metadata": {},
   "outputs": [],
   "source": []
  }
 ],
 "metadata": {
  "kernelspec": {
   "display_name": "Python 3 (ipykernel)",
   "language": "python",
   "name": "python3"
  },
  "language_info": {
   "codemirror_mode": {
    "name": "ipython",
    "version": 3
   },
   "file_extension": ".py",
   "mimetype": "text/x-python",
   "name": "python",
   "nbconvert_exporter": "python",
   "pygments_lexer": "ipython3",
   "version": "3.9.7"
  }
 },
 "nbformat": 4,
 "nbformat_minor": 5
}
