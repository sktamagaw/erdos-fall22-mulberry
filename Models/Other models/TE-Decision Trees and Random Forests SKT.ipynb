{
 "cells": [
  {
   "cell_type": "markdown",
   "id": "5fffecfa",
   "metadata": {},
   "source": [
    "In this notebook we build a random forest model using the features found to be important or slightly important during EDA, with Target Encoded categorical features\n",
    "\n",
    "We'll use max_depth=6 and n_estimators=2 again\n",
    "\n"
   ]
  },
  {
   "cell_type": "markdown",
   "id": "dc7abf8b",
   "metadata": {},
   "source": [
    "## Importing Packages and Data"
   ]
  },
  {
   "cell_type": "code",
   "execution_count": 1,
   "id": "e166dd8d",
   "metadata": {},
   "outputs": [],
   "source": [
    "import pandas as pd\n",
    "import numpy as np"
   ]
  },
  {
   "cell_type": "code",
   "execution_count": 2,
   "id": "e71e0f07",
   "metadata": {},
   "outputs": [],
   "source": [
    "from sklearn.model_selection import StratifiedKFold"
   ]
  },
  {
   "cell_type": "code",
   "execution_count": 3,
   "id": "810dc59f",
   "metadata": {},
   "outputs": [],
   "source": [
    "from sklearn.model_selection import train_test_split\n",
    "from sklearn.metrics import accuracy_score, recall_score"
   ]
  },
  {
   "cell_type": "code",
   "execution_count": 4,
   "id": "bdbff2b7",
   "metadata": {},
   "outputs": [],
   "source": [
    "from sklearn.tree import DecisionTreeClassifier\n",
    "from sklearn.ensemble import RandomForestClassifier"
   ]
  },
  {
   "cell_type": "code",
   "execution_count": 5,
   "id": "b048fe2c",
   "metadata": {},
   "outputs": [],
   "source": [
    "from matplotlib import pyplot as plt"
   ]
  },
  {
   "cell_type": "code",
   "execution_count": 6,
   "id": "8bad70dc",
   "metadata": {},
   "outputs": [],
   "source": [
    "df=pd.read_csv('../Data/clean_data_3.csv')"
   ]
  },
  {
   "cell_type": "markdown",
   "id": "f6040b3d",
   "metadata": {},
   "source": [
    "## Important shortcuts and helper functions"
   ]
  },
  {
   "cell_type": "code",
   "execution_count": 7,
   "id": "8fbe449f",
   "metadata": {},
   "outputs": [],
   "source": [
    "features2=['SEX_TE', \n",
    "           'EDUCATION_TE', \n",
    "           'MARRIAGE_TE', \n",
    "           'PAY_1_TE',\n",
    "           'PAY_AMT1',\n",
    "           'AGE_BY10_TE', \n",
    "           'AVE_PAY', \n",
    "           'AGE/LIM', \n",
    "           'AVE_BILL_AMT',\n",
    "           'AVE_BILL_AMT/LIM', \n",
    "           'AVE_PAY_AMT',\n",
    "           'AVE_PAY_AMT/LIM',  \n",
    "           'AVE_PAY/BILL', \n",
    "           'UNPAID_MONTHS']"
   ]
  },
  {
   "cell_type": "markdown",
   "id": "5a0eb1e1",
   "metadata": {},
   "source": [
    "## Splitting the data"
   ]
  },
  {
   "cell_type": "code",
   "execution_count": 8,
   "id": "962d2074",
   "metadata": {},
   "outputs": [],
   "source": [
    "train, val = train_test_split(df,\n",
    "                              test_size=0.1,\n",
    "                              stratify=df[\"Y\"],\n",
    "                              shuffle=True,\n",
    "                              random_state=123)"
   ]
  },
  {
   "cell_type": "markdown",
   "id": "31f7af67",
   "metadata": {},
   "source": [
    "## creating the model"
   ]
  },
  {
   "cell_type": "code",
   "execution_count": 11,
   "id": "6332a0e1",
   "metadata": {},
   "outputs": [],
   "source": [
    "splits=5\n",
    "j=1\n",
    "\n",
    "kfold=StratifiedKFold(n_splits=splits,\n",
    "                    shuffle=True,\n",
    "                    random_state=123)\n",
    "    \n",
    "accs=np.zeros((j,splits))\n",
    "recs = np.zeros((j,splits))\n",
    "for i in range(j):\n",
    "    x=0\n",
    "    for train_index, test_index in kfold.split(train[features2], train['Y']):\n",
    "\n",
    "        # make random forest model with k=i+1\n",
    "        rf = RandomForestClassifier(n_estimators=2,\n",
    "                            max_depth=6\n",
    "                                   )\n",
    "        rf.fit(\n",
    "                train.iloc[train_index][features2],\n",
    "                train.iloc[train_index]['Y']\n",
    "                    )\n",
    "        pred=rf.predict(train.iloc[test_index][features2]\n",
    "                        )\n",
    "\n",
    "        # add metrics to the tables\n",
    "        accs[i,x]=accuracy_score(train.iloc[test_index]['Y'], pred)\n",
    "        recs[i,x]=recall_score(train.iloc[test_index]['Y'], pred, zero_division=0)\n",
    "        x=x+1"
   ]
  },
  {
   "cell_type": "code",
   "execution_count": 13,
   "id": "c48b17fd",
   "metadata": {},
   "outputs": [
    {
     "data": {
      "image/png": "[encoded data removed]",
      "text/plain": [
       "<Figure size 432x288 with 1 Axes>"
      ]
     },
     "metadata": {
      "needs_background": "light"
     },
     "output_type": "display_data"
    }
   ],
   "source": [
    "#plt.figure(figsize=(8,6))\n",
    "\n",
    "plt.scatter(5*[6], \n",
    "            np.transpose(accs).reshape(1,-1),\n",
    "           label='Accuracy')\n",
    "\n",
    "plt.scatter(5*[6], \n",
    "            np.transpose(recs).reshape(1,-1),\n",
    "           label='Recall')\n",
    "\n",
    "#plt.scatter(range(2,12), np.mean(metrics[1], axis=1), label='Average')\n",
    "\n",
    "plt.title('Metrics for Max_Depth', fontsize=20)\n",
    "plt.xlabel('Max_Depth')\n",
    "plt.ylabel('Metrics')\n",
    "plt.ylim(-0.1,1.1)\n",
    "\n",
    "plt.legend()\n",
    "\n",
    "plt.show()"
   ]
  },
  {
   "cell_type": "code",
   "execution_count": 14,
   "id": "318d1e5e",
   "metadata": {},
   "outputs": [
    {
     "data": {
      "text/plain": [
       "0.8149629629629629"
      ]
     },
     "execution_count": 14,
     "metadata": {},
     "output_type": "execute_result"
    }
   ],
   "source": [
    "np.mean(accs[0])"
   ]
  },
  {
   "cell_type": "code",
   "execution_count": 15,
   "id": "4df47608",
   "metadata": {},
   "outputs": [
    {
     "data": {
      "text/plain": [
       "0.34712306301381385"
      ]
     },
     "execution_count": 15,
     "metadata": {},
     "output_type": "execute_result"
    }
   ],
   "source": [
    "np.mean(recs[0])"
   ]
  },
  {
   "cell_type": "markdown",
   "id": "247a308d",
   "metadata": {},
   "source": [
    "## testing against validation data"
   ]
  },
  {
   "cell_type": "code",
   "execution_count": 9,
   "id": "1631e98e",
   "metadata": {},
   "outputs": [],
   "source": [
    "rf1= RandomForestClassifier(n_estimators=2,\n",
    "                            max_depth=6\n",
    "                            )"
   ]
  },
  {
   "cell_type": "code",
   "execution_count": 10,
   "id": "1b3d36f5",
   "metadata": {},
   "outputs": [],
   "source": [
    "rf1.fit(train[features2], train['Y'])\n",
    "pred1=rf1.predict(val[features2])"
   ]
  },
  {
   "cell_type": "code",
   "execution_count": 11,
   "id": "38e9dc1c",
   "metadata": {},
   "outputs": [
    {
     "name": "stdout",
     "output_type": "stream",
     "text": [
      "Accuracy score: 0.8103\n",
      "Recall score: 0.3253\n"
     ]
    }
   ],
   "source": [
    "print('Accuracy score: ' + str(np.round(accuracy_score(val['Y'], pred1),4)))\n",
    "print('Recall score: ' + str(np.round(recall_score(val['Y'], pred1),4)))"
   ]
  },
  {
   "cell_type": "code",
   "execution_count": null,
   "id": "ce65094a",
   "metadata": {},
   "outputs": [],
   "source": []
  }
 ],
 "metadata": {
  "kernelspec": {
   "display_name": "Python 3 (ipykernel)",
   "language": "python",
   "name": "python3"
  },
  "language_info": {
   "codemirror_mode": {
    "name": "ipython",
    "version": 3
   },
   "file_extension": ".py",
   "mimetype": "text/x-python",
   "name": "python",
   "nbconvert_exporter": "python",
   "pygments_lexer": "ipython3",
   "version": "3.9.7"
  }
 },
 "nbformat": 4,
 "nbformat_minor": 5
}
