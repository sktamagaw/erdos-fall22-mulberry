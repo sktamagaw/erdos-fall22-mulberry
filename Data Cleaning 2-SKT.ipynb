{
 "cells": [
  {
   "cell_type": "markdown",
   "id": "baa3ff8c",
   "metadata": {},
   "source": [
    "In this notebook we re-clean the data based on what we learned during EDA:\n",
    "<ul>\n",
    "    <li> reset unknown values into \"other\" </li>\n",
    "        <ul>\n",
    "            <li> Education values 0, 5, and 6 reset to 4 </li>\n",
    "            <li> Marriage value 0 reset to 3 </li>\n",
    "    </ul>\n",
    "    <li> rename PAY_0 as PAY_1 </li>\n",
    "    <li> rename 'default payment next month' as Y </li>\n",
    "    <li> add new columns that were found to be interesting in EDA </li>\n",
    "        <ul>\n",
    "            <li> Age grouped by 10's </li>\n",
    "            <li> Average Payment History </li>\n",
    "            <li> Age/log(credit limit) </li>\n",
    "            <li> Average bill_amt </li>\n",
    "            <li> bill_amt/credit limit </li>\n",
    "            <li> pay_amt/log(credit limit) </li>\n",
    "            <li> pay_amt/bill_amt </li>\n",
    "            <li> number of times bill not paid duly </li>\n",
    "    </ul>\n",
    "    <li> save the new csv as clean_data_2.csv </li>\n",
    "</ul>\n",
    "\n",
    "A full description of the data set can be found in the file dataset_2_description.txt"
   ]
  },
  {
   "cell_type": "markdown",
   "id": "ebdf7af1",
   "metadata": {},
   "source": [
    "## Import packages and data"
   ]
  },
  {
   "cell_type": "code",
   "execution_count": 1,
   "id": "5e0ac420",
   "metadata": {},
   "outputs": [],
   "source": [
    "#importing packages\n",
    "import pandas as pd\n",
    "import numpy as np"
   ]
  },
  {
   "cell_type": "code",
   "execution_count": 2,
   "id": "87ac273e",
   "metadata": {},
   "outputs": [],
   "source": [
    "#import data\n",
    "data=pd.read_csv(\"clean_data.csv\")"
   ]
  },
  {
   "cell_type": "markdown",
   "id": "b7ebc1ee",
   "metadata": {},
   "source": [
    "## Helper functions and important shortcuts"
   ]
  },
  {
   "cell_type": "code",
   "execution_count": 3,
   "id": "bc584f7e",
   "metadata": {},
   "outputs": [],
   "source": [
    "pay_cols=['PAY_1', 'PAY_2','PAY_3','PAY_4','PAY_5','PAY_6']\n",
    "bill_amt_cols=['BILL_AMT1', 'BILL_AMT2', 'BILL_AMT3', 'BILL_AMT4', 'BILL_AMT5','BILL_AMT6']\n",
    "pay_amt_cols=['PAY_AMT1', 'PAY_AMT2', 'PAY_AMT3', 'PAY_AMT4', 'PAY_AMT5','PAY_AMT6']"
   ]
  },
  {
   "cell_type": "code",
   "execution_count": 4,
   "id": "0f0c144c",
   "metadata": {},
   "outputs": [],
   "source": [
    "payperbill = ['PAY/BILL_1','PAY/BILL_2','PAY/BILL_3','PAY/BILL_4','PAY/BILL_5',]"
   ]
  },
  {
   "cell_type": "code",
   "execution_count": 5,
   "id": "cd843369",
   "metadata": {},
   "outputs": [],
   "source": [
    "def average(L):\n",
    "    '''takes in a non-empty list of numbers and outputs the average of those numbers'''\n",
    "    sum=0\n",
    "    for item in L:\n",
    "        sum=sum +item\n",
    "    return(sum/len(L))"
   ]
  },
  {
   "cell_type": "markdown",
   "id": "10049de9",
   "metadata": {},
   "source": [
    "## Renaming columns"
   ]
  },
  {
   "cell_type": "code",
   "execution_count": 6,
   "id": "87065c84",
   "metadata": {},
   "outputs": [],
   "source": [
    "data=data.rename({'PAY_0':'PAY_1'}, axis='columns')"
   ]
  },
  {
   "cell_type": "code",
   "execution_count": 7,
   "id": "df961ebc",
   "metadata": {},
   "outputs": [],
   "source": [
    "data=data.rename({'default payment next month': 'Y'}, axis='columns')"
   ]
  },
  {
   "cell_type": "markdown",
   "id": "1d4f17d0",
   "metadata": {},
   "source": [
    "## Resetting unknown values to \"other\""
   ]
  },
  {
   "cell_type": "markdown",
   "id": "3fc00dc9",
   "metadata": {},
   "source": [
    "If education is 0, 5, or 6, reset to 4"
   ]
  },
  {
   "cell_type": "code",
   "execution_count": 8,
   "id": "26f9af75",
   "metadata": {},
   "outputs": [
    {
     "data": {
      "text/plain": [
       "2    14030\n",
       "1    10585\n",
       "3     4917\n",
       "5      280\n",
       "4      123\n",
       "6       51\n",
       "0       14\n",
       "Name: EDUCATION, dtype: int64"
      ]
     },
     "execution_count": 8,
     "metadata": {},
     "output_type": "execute_result"
    }
   ],
   "source": [
    "data['EDUCATION'].value_counts()"
   ]
  },
  {
   "cell_type": "code",
   "execution_count": 9,
   "id": "bcd078d6",
   "metadata": {},
   "outputs": [],
   "source": [
    "for i in range(len(data)):\n",
    "    if data.loc[i,'EDUCATION'] in [0,5,6]:\n",
    "        data.at[i,'EDUCATION'] = 4"
   ]
  },
  {
   "cell_type": "code",
   "execution_count": 10,
   "id": "e5105c04",
   "metadata": {},
   "outputs": [
    {
     "data": {
      "text/plain": [
       "2    14030\n",
       "1    10585\n",
       "3     4917\n",
       "4      468\n",
       "Name: EDUCATION, dtype: int64"
      ]
     },
     "execution_count": 10,
     "metadata": {},
     "output_type": "execute_result"
    }
   ],
   "source": [
    "data['EDUCATION'].value_counts()"
   ]
  },
  {
   "cell_type": "markdown",
   "id": "2b556cca",
   "metadata": {},
   "source": [
    "If marriage is 0, reset it to 3"
   ]
  },
  {
   "cell_type": "code",
   "execution_count": 11,
   "id": "32653bc3",
   "metadata": {},
   "outputs": [
    {
     "data": {
      "text/plain": [
       "2    15964\n",
       "1    13659\n",
       "3      323\n",
       "0       54\n",
       "Name: MARRIAGE, dtype: int64"
      ]
     },
     "execution_count": 11,
     "metadata": {},
     "output_type": "execute_result"
    }
   ],
   "source": [
    "data['MARRIAGE'].value_counts()"
   ]
  },
  {
   "cell_type": "code",
   "execution_count": 12,
   "id": "3bed936b",
   "metadata": {},
   "outputs": [],
   "source": [
    "for i in range(len(data)):\n",
    "    if data.loc[i,'MARRIAGE'] ==0:\n",
    "        data.at[i,'MARRIAGE']= 3"
   ]
  },
  {
   "cell_type": "code",
   "execution_count": 13,
   "id": "aa885b6d",
   "metadata": {},
   "outputs": [
    {
     "data": {
      "text/plain": [
       "2    15964\n",
       "1    13659\n",
       "3      377\n",
       "Name: MARRIAGE, dtype: int64"
      ]
     },
     "execution_count": 13,
     "metadata": {},
     "output_type": "execute_result"
    }
   ],
   "source": [
    "data['MARRIAGE'].value_counts()"
   ]
  },
  {
   "cell_type": "markdown",
   "id": "f288e9cf",
   "metadata": {},
   "source": [
    "## Checking that all the values still make sense"
   ]
  },
  {
   "cell_type": "code",
   "execution_count": 14,
   "id": "c9b4a2e5",
   "metadata": {
    "scrolled": true
   },
   "outputs": [
    {
     "name": "stdout",
     "output_type": "stream",
     "text": [
      "The youngest person is: 21\n",
      "The oldest person is: 79\n"
     ]
    }
   ],
   "source": [
    "print('The youngest person is: ' + str(data['AGE'].min()))\n",
    "print('The oldest person is: ' + str(data['AGE'].max()))"
   ]
  },
  {
   "cell_type": "code",
   "execution_count": 15,
   "id": "c517f6c8",
   "metadata": {},
   "outputs": [
    {
     "name": "stdout",
     "output_type": "stream",
     "text": [
      "The minimum payment was: -2\n",
      "The maximum payment was: 8\n",
      "The minimum payment was: -2\n",
      "The maximum payment was: 8\n",
      "The minimum payment was: -2\n",
      "The maximum payment was: 8\n",
      "The minimum payment was: -2\n",
      "The maximum payment was: 8\n",
      "The minimum payment was: -2\n",
      "The maximum payment was: 8\n",
      "The minimum payment was: -2\n",
      "The maximum payment was: 8\n"
     ]
    }
   ],
   "source": [
    "for col in pay_cols:\n",
    "    print('The minimum payment was: ' + str(data[col].min()))\n",
    "    print('The maximum payment was: ' + str(data[col].max()))"
   ]
  },
  {
   "cell_type": "code",
   "execution_count": 16,
   "id": "ae0426b6",
   "metadata": {},
   "outputs": [
    {
     "name": "stdout",
     "output_type": "stream",
     "text": [
      "The minimum payment was: 0\n",
      "The maximum payment was: 873552\n",
      "The minimum payment was: 0\n",
      "The maximum payment was: 1684259\n",
      "The minimum payment was: 0\n",
      "The maximum payment was: 896040\n",
      "The minimum payment was: 0\n",
      "The maximum payment was: 621000\n",
      "The minimum payment was: 0\n",
      "The maximum payment was: 426529\n",
      "The minimum payment was: 0\n",
      "The maximum payment was: 528666\n"
     ]
    }
   ],
   "source": [
    "for col in pay_amt_cols:\n",
    "    print('The minimum payment was: ' + str(data[col].min()))\n",
    "    print('The maximum payment was: ' + str(data[col].max()))"
   ]
  },
  {
   "cell_type": "code",
   "execution_count": 17,
   "id": "08e8b7d6",
   "metadata": {
    "scrolled": true
   },
   "outputs": [
    {
     "name": "stdout",
     "output_type": "stream",
     "text": [
      "The minimum bill was: -165580\n",
      "The maximum bill was: 964511\n",
      "The minimum bill was: -69777\n",
      "The maximum bill was: 983931\n",
      "The minimum bill was: -157264\n",
      "The maximum bill was: 1664089\n",
      "The minimum bill was: -170000\n",
      "The maximum bill was: 891586\n",
      "The minimum bill was: -81334\n",
      "The maximum bill was: 927171\n",
      "The minimum bill was: -339603\n",
      "The maximum bill was: 961664\n"
     ]
    }
   ],
   "source": [
    "for col in bill_amt_cols:\n",
    "    print('The minimum bill was: ' + str(data[col].min()))\n",
    "    print('The maximum bill was: ' + str(data[col].max()))"
   ]
  },
  {
   "cell_type": "markdown",
   "id": "65108779",
   "metadata": {},
   "source": [
    "Great, so we didn't gain any new entries from using the whole data set instead of just our training set!"
   ]
  },
  {
   "cell_type": "markdown",
   "id": "0ca23edc",
   "metadata": {},
   "source": [
    "## Adding a column for age grouped by 10's"
   ]
  },
  {
   "cell_type": "code",
   "execution_count": 18,
   "id": "cdb81e60",
   "metadata": {},
   "outputs": [],
   "source": [
    "age_by10 = []\n",
    "for i in range(len(data)):\n",
    "    for j in range(8):\n",
    "        if data.iloc[i]['AGE'] in range(19+10*j+1, 30+10*j):\n",
    "            age_by10.append(j)\n",
    "\n",
    "data['AGE_BY10']=age_by10"
   ]
  },
  {
   "cell_type": "markdown",
   "id": "3558a9ce",
   "metadata": {},
   "source": [
    "## Adding a column for average Payment History"
   ]
  },
  {
   "cell_type": "code",
   "execution_count": 19,
   "id": "679c3a8a",
   "metadata": {},
   "outputs": [],
   "source": [
    "newcol = []\n",
    "for i in range(len(data)):\n",
    "    newcol.append(average([data.iloc[i][j] for j in pay_cols]))\n",
    "    \n",
    "data['AVE_PAY']= newcol"
   ]
  },
  {
   "cell_type": "markdown",
   "id": "0badc83f",
   "metadata": {},
   "source": [
    "## Adding a column for ratio of age to (logarithm of) credit limit"
   ]
  },
  {
   "cell_type": "code",
   "execution_count": 20,
   "id": "0bc67e69",
   "metadata": {},
   "outputs": [],
   "source": [
    "data['AGE/LIM']=data['AGE']/np.log(data['LIMIT_BAL'])"
   ]
  },
  {
   "cell_type": "markdown",
   "id": "46c15bda",
   "metadata": {},
   "source": [
    "## Adding a column for the average bill amount"
   ]
  },
  {
   "cell_type": "code",
   "execution_count": 21,
   "id": "4a4ad76c",
   "metadata": {},
   "outputs": [],
   "source": [
    "newcol = []\n",
    "for i in range(len(data)):\n",
    "    newcol.append(average([data.iloc[i][j] for j in bill_amt_cols]))\n",
    "    \n",
    "data['AVE_BILL_AMT']= newcol"
   ]
  },
  {
   "cell_type": "markdown",
   "id": "7e976ccd",
   "metadata": {},
   "source": [
    "## Adding columns for ratio of bill to credit limit"
   ]
  },
  {
   "cell_type": "code",
   "execution_count": 22,
   "id": "aaf2a6d9",
   "metadata": {},
   "outputs": [],
   "source": [
    "#First, we add the monthly columns\n",
    "for j in range(len(bill_amt_cols)):\n",
    "    col_name='BILL/LIM'+str(j+1)\n",
    "    data[col_name]=data[bill_amt_cols[j]]/data['LIMIT_BAL']\n",
    "\n",
    "#Then, we add a column that gets the average of these\n",
    "data['AVE_BILL_AMT/LIM']=data['AVE_BILL_AMT']/data['LIMIT_BAL']"
   ]
  },
  {
   "cell_type": "markdown",
   "id": "a9b0c636",
   "metadata": {},
   "source": [
    "## Adding a column for average payment amount"
   ]
  },
  {
   "cell_type": "code",
   "execution_count": 23,
   "id": "bbe3edff",
   "metadata": {},
   "outputs": [],
   "source": [
    "newcol = []\n",
    "for i in range(len(data)):\n",
    "    newcol.append(average([data.iloc[i][j] for j in pay_amt_cols]))\n",
    "    \n",
    "data['AVE_PAY_AMT']= newcol"
   ]
  },
  {
   "cell_type": "markdown",
   "id": "43665729",
   "metadata": {},
   "source": [
    "## Adding columns for ratio of payment amount to (log of) credit limit"
   ]
  },
  {
   "cell_type": "code",
   "execution_count": 24,
   "id": "9366027a",
   "metadata": {},
   "outputs": [],
   "source": [
    "#First, we add the monthly columns\n",
    "for j in range(len(pay_amt_cols)):\n",
    "    col_name='PAY_AMT/LIM'+str(j+1)\n",
    "    data[col_name]=data[pay_amt_cols[j]]/np.log(data['LIMIT_BAL'])\n",
    "\n",
    "#Then, we add a column that gets the average of these\n",
    "data['AVE_PAY_AMT/LIM']=data['AVE_PAY_AMT']/data['LIMIT_BAL']"
   ]
  },
  {
   "cell_type": "markdown",
   "id": "70a4e418",
   "metadata": {},
   "source": [
    "## Adding columns for ratio of payment amount to bill amount"
   ]
  },
  {
   "cell_type": "code",
   "execution_count": 25,
   "id": "1b9ac990",
   "metadata": {},
   "outputs": [],
   "source": [
    "#Adding blank columns to fill in\n",
    "\n",
    "for k in range(len(bill_amt_cols)-1):\n",
    "    data[payperbill[k]]=np.nan\n",
    "    \n",
    "data['AVE_PAY/BILL']=np.nan"
   ]
  },
  {
   "cell_type": "code",
   "execution_count": 26,
   "id": "82893242",
   "metadata": {},
   "outputs": [],
   "source": [
    "#Adjustment for people overpaying their bills - any paid in full bill is counted as ratio 1\n",
    "#Pay_AMT(n) coorsponds to BILL_AMT(n+1)\n",
    "\n",
    "\n",
    "for i in range(len(data)):\n",
    "    \n",
    "    P=[]\n",
    "    B=[]\n",
    "    \n",
    "    for j in range(len(bill_amt_cols)-1):\n",
    "        if data.iloc[i][bill_amt_cols[j+1]] <= 0:\n",
    "            P.append(1)\n",
    "            B.append(1)\n",
    "        elif data.iloc[i][pay_amt_cols[j]] > data.iloc[i][bill_amt_cols[j+1]]:\n",
    "            P.append(1)\n",
    "            B.append(1)\n",
    "        else:\n",
    "            P.append(data.iloc[i][pay_amt_cols[j]])\n",
    "            B.append(data.iloc[i][bill_amt_cols[j+1]])\n",
    "    \n",
    "    for k in range(len(bill_amt_cols)-1):\n",
    "        #col_name = 'PAY/BILL_'+str(k+1)\n",
    "        data.at[i, payperbill[k]] = P[k]/B[k]\n",
    "    \n",
    "    data.at[i, 'AVE_PAY/BILL']=average([P[k]/B[k] for k in range(len(bill_amt_cols)-1)])\n",
    "    "
   ]
  },
  {
   "cell_type": "markdown",
   "id": "4bd46438",
   "metadata": {},
   "source": [
    "## Adding a column for the number of months bill was not paid duly"
   ]
  },
  {
   "cell_type": "code",
   "execution_count": 27,
   "id": "b039bb5c",
   "metadata": {},
   "outputs": [],
   "source": [
    "newcol=[]\n",
    "for i in range(len(data)):\n",
    "    counter=0\n",
    "    for col in pay_cols:\n",
    "        if data.iloc[i][col]>0:\n",
    "            counter=counter+1\n",
    "    newcol.append(counter)\n",
    "data['UNPAID_MONTHS']=newcol"
   ]
  },
  {
   "cell_type": "code",
   "execution_count": 28,
   "id": "59a25917",
   "metadata": {},
   "outputs": [
    {
     "data": {
      "text/html": [
       "<div>\n",
       "<style scoped>\n",
       "    .dataframe tbody tr th:only-of-type {\n",
       "        vertical-align: middle;\n",
       "    }\n",
       "\n",
       "    .dataframe tbody tr th {\n",
       "        vertical-align: top;\n",
       "    }\n",
       "\n",
       "    .dataframe thead th {\n",
       "        text-align: right;\n",
       "    }\n",
       "</style>\n",
       "<table border=\"1\" class=\"dataframe\">\n",
       "  <thead>\n",
       "    <tr style=\"text-align: right;\">\n",
       "      <th></th>\n",
       "      <th>ID</th>\n",
       "      <th>LIMIT_BAL</th>\n",
       "      <th>SEX</th>\n",
       "      <th>EDUCATION</th>\n",
       "      <th>MARRIAGE</th>\n",
       "      <th>AGE</th>\n",
       "      <th>PAY_1</th>\n",
       "      <th>PAY_2</th>\n",
       "      <th>PAY_3</th>\n",
       "      <th>PAY_4</th>\n",
       "      <th>...</th>\n",
       "      <th>PAY_AMT/LIM5</th>\n",
       "      <th>PAY_AMT/LIM6</th>\n",
       "      <th>AVE_PAY_AMT/LIM</th>\n",
       "      <th>PAY/BILL_1</th>\n",
       "      <th>PAY/BILL_2</th>\n",
       "      <th>PAY/BILL_3</th>\n",
       "      <th>PAY/BILL_4</th>\n",
       "      <th>PAY/BILL_5</th>\n",
       "      <th>AVE_PAY/BILL</th>\n",
       "      <th>UNPAID_MONTHS</th>\n",
       "    </tr>\n",
       "  </thead>\n",
       "  <tbody>\n",
       "    <tr>\n",
       "      <th>0</th>\n",
       "      <td>1</td>\n",
       "      <td>20000</td>\n",
       "      <td>2</td>\n",
       "      <td>2</td>\n",
       "      <td>1</td>\n",
       "      <td>24</td>\n",
       "      <td>2</td>\n",
       "      <td>2</td>\n",
       "      <td>-1</td>\n",
       "      <td>-1</td>\n",
       "      <td>...</td>\n",
       "      <td>0.000000</td>\n",
       "      <td>0.000000</td>\n",
       "      <td>0.005742</td>\n",
       "      <td>0.000000</td>\n",
       "      <td>1.000000</td>\n",
       "      <td>1.000000</td>\n",
       "      <td>1.000000</td>\n",
       "      <td>1.000000</td>\n",
       "      <td>0.800000</td>\n",
       "      <td>2</td>\n",
       "    </tr>\n",
       "    <tr>\n",
       "      <th>1</th>\n",
       "      <td>2</td>\n",
       "      <td>120000</td>\n",
       "      <td>2</td>\n",
       "      <td>2</td>\n",
       "      <td>2</td>\n",
       "      <td>26</td>\n",
       "      <td>-1</td>\n",
       "      <td>2</td>\n",
       "      <td>0</td>\n",
       "      <td>0</td>\n",
       "      <td>...</td>\n",
       "      <td>0.000000</td>\n",
       "      <td>171.009641</td>\n",
       "      <td>0.006944</td>\n",
       "      <td>0.000000</td>\n",
       "      <td>0.372856</td>\n",
       "      <td>0.305623</td>\n",
       "      <td>0.289436</td>\n",
       "      <td>0.000000</td>\n",
       "      <td>0.193583</td>\n",
       "      <td>2</td>\n",
       "    </tr>\n",
       "    <tr>\n",
       "      <th>2</th>\n",
       "      <td>3</td>\n",
       "      <td>90000</td>\n",
       "      <td>2</td>\n",
       "      <td>2</td>\n",
       "      <td>2</td>\n",
       "      <td>34</td>\n",
       "      <td>0</td>\n",
       "      <td>0</td>\n",
       "      <td>0</td>\n",
       "      <td>0</td>\n",
       "      <td>...</td>\n",
       "      <td>87.661127</td>\n",
       "      <td>438.305635</td>\n",
       "      <td>0.020404</td>\n",
       "      <td>0.108220</td>\n",
       "      <td>0.110628</td>\n",
       "      <td>0.069779</td>\n",
       "      <td>0.066899</td>\n",
       "      <td>0.064313</td>\n",
       "      <td>0.083968</td>\n",
       "      <td>0</td>\n",
       "    </tr>\n",
       "    <tr>\n",
       "      <th>3</th>\n",
       "      <td>4</td>\n",
       "      <td>50000</td>\n",
       "      <td>2</td>\n",
       "      <td>2</td>\n",
       "      <td>1</td>\n",
       "      <td>37</td>\n",
       "      <td>0</td>\n",
       "      <td>0</td>\n",
       "      <td>0</td>\n",
       "      <td>0</td>\n",
       "      <td>...</td>\n",
       "      <td>98.800546</td>\n",
       "      <td>92.423336</td>\n",
       "      <td>0.027960</td>\n",
       "      <td>0.041465</td>\n",
       "      <td>0.040961</td>\n",
       "      <td>0.042382</td>\n",
       "      <td>0.037985</td>\n",
       "      <td>0.036180</td>\n",
       "      <td>0.039794</td>\n",
       "      <td>0</td>\n",
       "    </tr>\n",
       "    <tr>\n",
       "      <th>4</th>\n",
       "      <td>5</td>\n",
       "      <td>50000</td>\n",
       "      <td>1</td>\n",
       "      <td>2</td>\n",
       "      <td>1</td>\n",
       "      <td>57</td>\n",
       "      <td>-1</td>\n",
       "      <td>0</td>\n",
       "      <td>-1</td>\n",
       "      <td>0</td>\n",
       "      <td>...</td>\n",
       "      <td>63.679678</td>\n",
       "      <td>62.755445</td>\n",
       "      <td>0.196830</td>\n",
       "      <td>0.352734</td>\n",
       "      <td>1.000000</td>\n",
       "      <td>0.477555</td>\n",
       "      <td>0.470072</td>\n",
       "      <td>0.036015</td>\n",
       "      <td>0.467275</td>\n",
       "      <td>0</td>\n",
       "    </tr>\n",
       "    <tr>\n",
       "      <th>5</th>\n",
       "      <td>6</td>\n",
       "      <td>50000</td>\n",
       "      <td>1</td>\n",
       "      <td>1</td>\n",
       "      <td>2</td>\n",
       "      <td>37</td>\n",
       "      <td>0</td>\n",
       "      <td>0</td>\n",
       "      <td>0</td>\n",
       "      <td>0</td>\n",
       "      <td>...</td>\n",
       "      <td>92.423336</td>\n",
       "      <td>73.938669</td>\n",
       "      <td>0.025907</td>\n",
       "      <td>0.043807</td>\n",
       "      <td>0.031506</td>\n",
       "      <td>0.033876</td>\n",
       "      <td>0.050971</td>\n",
       "      <td>0.049940</td>\n",
       "      <td>0.042020</td>\n",
       "      <td>0</td>\n",
       "    </tr>\n",
       "    <tr>\n",
       "      <th>6</th>\n",
       "      <td>7</td>\n",
       "      <td>500000</td>\n",
       "      <td>1</td>\n",
       "      <td>1</td>\n",
       "      <td>2</td>\n",
       "      <td>29</td>\n",
       "      <td>0</td>\n",
       "      <td>0</td>\n",
       "      <td>0</td>\n",
       "      <td>0</td>\n",
       "      <td>...</td>\n",
       "      <td>1047.829541</td>\n",
       "      <td>1049.353657</td>\n",
       "      <td>0.060253</td>\n",
       "      <td>0.133488</td>\n",
       "      <td>0.089886</td>\n",
       "      <td>0.070026</td>\n",
       "      <td>0.041902</td>\n",
       "      <td>0.029012</td>\n",
       "      <td>0.072863</td>\n",
       "      <td>0</td>\n",
       "    </tr>\n",
       "    <tr>\n",
       "      <th>7</th>\n",
       "      <td>8</td>\n",
       "      <td>100000</td>\n",
       "      <td>2</td>\n",
       "      <td>2</td>\n",
       "      <td>2</td>\n",
       "      <td>23</td>\n",
       "      <td>0</td>\n",
       "      <td>-1</td>\n",
       "      <td>-1</td>\n",
       "      <td>0</td>\n",
       "      <td>...</td>\n",
       "      <td>146.530958</td>\n",
       "      <td>133.936418</td>\n",
       "      <td>0.007985</td>\n",
       "      <td>1.000000</td>\n",
       "      <td>1.000000</td>\n",
       "      <td>0.000000</td>\n",
       "      <td>1.000000</td>\n",
       "      <td>1.000000</td>\n",
       "      <td>0.800000</td>\n",
       "      <td>0</td>\n",
       "    </tr>\n",
       "    <tr>\n",
       "      <th>8</th>\n",
       "      <td>9</td>\n",
       "      <td>140000</td>\n",
       "      <td>2</td>\n",
       "      <td>3</td>\n",
       "      <td>1</td>\n",
       "      <td>28</td>\n",
       "      <td>0</td>\n",
       "      <td>0</td>\n",
       "      <td>2</td>\n",
       "      <td>0</td>\n",
       "      <td>...</td>\n",
       "      <td>84.392475</td>\n",
       "      <td>84.392475</td>\n",
       "      <td>0.008049</td>\n",
       "      <td>0.236166</td>\n",
       "      <td>0.000000</td>\n",
       "      <td>0.035378</td>\n",
       "      <td>0.084796</td>\n",
       "      <td>0.268889</td>\n",
       "      <td>0.125046</td>\n",
       "      <td>1</td>\n",
       "    </tr>\n",
       "    <tr>\n",
       "      <th>9</th>\n",
       "      <td>10</td>\n",
       "      <td>20000</td>\n",
       "      <td>1</td>\n",
       "      <td>3</td>\n",
       "      <td>2</td>\n",
       "      <td>35</td>\n",
       "      <td>-2</td>\n",
       "      <td>-2</td>\n",
       "      <td>-2</td>\n",
       "      <td>-2</td>\n",
       "      <td>...</td>\n",
       "      <td>113.293423</td>\n",
       "      <td>0.000000</td>\n",
       "      <td>0.117742</td>\n",
       "      <td>1.000000</td>\n",
       "      <td>1.000000</td>\n",
       "      <td>1.000000</td>\n",
       "      <td>1.000000</td>\n",
       "      <td>0.080650</td>\n",
       "      <td>0.816130</td>\n",
       "      <td>0</td>\n",
       "    </tr>\n",
       "  </tbody>\n",
       "</table>\n",
       "<p>10 rows × 51 columns</p>\n",
       "</div>"
      ],
      "text/plain": [
       "   ID  LIMIT_BAL  SEX  EDUCATION  MARRIAGE  AGE  PAY_1  PAY_2  PAY_3  PAY_4  \\\n",
       "0   1      20000    2          2         1   24      2      2     -1     -1   \n",
       "1   2     120000    2          2         2   26     -1      2      0      0   \n",
       "2   3      90000    2          2         2   34      0      0      0      0   \n",
       "3   4      50000    2          2         1   37      0      0      0      0   \n",
       "4   5      50000    1          2         1   57     -1      0     -1      0   \n",
       "5   6      50000    1          1         2   37      0      0      0      0   \n",
       "6   7     500000    1          1         2   29      0      0      0      0   \n",
       "7   8     100000    2          2         2   23      0     -1     -1      0   \n",
       "8   9     140000    2          3         1   28      0      0      2      0   \n",
       "9  10      20000    1          3         2   35     -2     -2     -2     -2   \n",
       "\n",
       "   ...  PAY_AMT/LIM5  PAY_AMT/LIM6  AVE_PAY_AMT/LIM  PAY/BILL_1  PAY/BILL_2  \\\n",
       "0  ...      0.000000      0.000000         0.005742    0.000000    1.000000   \n",
       "1  ...      0.000000    171.009641         0.006944    0.000000    0.372856   \n",
       "2  ...     87.661127    438.305635         0.020404    0.108220    0.110628   \n",
       "3  ...     98.800546     92.423336         0.027960    0.041465    0.040961   \n",
       "4  ...     63.679678     62.755445         0.196830    0.352734    1.000000   \n",
       "5  ...     92.423336     73.938669         0.025907    0.043807    0.031506   \n",
       "6  ...   1047.829541   1049.353657         0.060253    0.133488    0.089886   \n",
       "7  ...    146.530958    133.936418         0.007985    1.000000    1.000000   \n",
       "8  ...     84.392475     84.392475         0.008049    0.236166    0.000000   \n",
       "9  ...    113.293423      0.000000         0.117742    1.000000    1.000000   \n",
       "\n",
       "   PAY/BILL_3  PAY/BILL_4  PAY/BILL_5  AVE_PAY/BILL  UNPAID_MONTHS  \n",
       "0    1.000000    1.000000    1.000000      0.800000              2  \n",
       "1    0.305623    0.289436    0.000000      0.193583              2  \n",
       "2    0.069779    0.066899    0.064313      0.083968              0  \n",
       "3    0.042382    0.037985    0.036180      0.039794              0  \n",
       "4    0.477555    0.470072    0.036015      0.467275              0  \n",
       "5    0.033876    0.050971    0.049940      0.042020              0  \n",
       "6    0.070026    0.041902    0.029012      0.072863              0  \n",
       "7    0.000000    1.000000    1.000000      0.800000              0  \n",
       "8    0.035378    0.084796    0.268889      0.125046              1  \n",
       "9    1.000000    1.000000    0.080650      0.816130              0  \n",
       "\n",
       "[10 rows x 51 columns]"
      ]
     },
     "execution_count": 28,
     "metadata": {},
     "output_type": "execute_result"
    }
   ],
   "source": [
    "data.head(10)"
   ]
  },
  {
   "cell_type": "markdown",
   "id": "bb24890e",
   "metadata": {},
   "source": [
    "## Saving the file"
   ]
  },
  {
   "cell_type": "code",
   "execution_count": 29,
   "id": "191d28d3",
   "metadata": {},
   "outputs": [],
   "source": [
    "data.to_csv(\"clean_data_2.csv\", index=False)"
   ]
  },
  {
   "cell_type": "code",
   "execution_count": 30,
   "id": "e427e121",
   "metadata": {},
   "outputs": [
    {
     "data": {
      "text/plain": [
       "Index(['ID', 'LIMIT_BAL', 'SEX', 'EDUCATION', 'MARRIAGE', 'AGE', 'PAY_1',\n",
       "       'PAY_2', 'PAY_3', 'PAY_4', 'PAY_5', 'PAY_6', 'BILL_AMT1', 'BILL_AMT2',\n",
       "       'BILL_AMT3', 'BILL_AMT4', 'BILL_AMT5', 'BILL_AMT6', 'PAY_AMT1',\n",
       "       'PAY_AMT2', 'PAY_AMT3', 'PAY_AMT4', 'PAY_AMT5', 'PAY_AMT6', 'Y',\n",
       "       'AGE_BY10', 'AVE_PAY', 'AGE/LIM', 'AVE_BILL_AMT', 'BILL/LIM1',\n",
       "       'BILL/LIM2', 'BILL/LIM3', 'BILL/LIM4', 'BILL/LIM5', 'BILL/LIM6',\n",
       "       'AVE_BILL_AMT/LIM', 'AVE_PAY_AMT', 'PAY_AMT/LIM1', 'PAY_AMT/LIM2',\n",
       "       'PAY_AMT/LIM3', 'PAY_AMT/LIM4', 'PAY_AMT/LIM5', 'PAY_AMT/LIM6',\n",
       "       'AVE_PAY_AMT/LIM', 'PAY/BILL_1', 'PAY/BILL_2', 'PAY/BILL_3',\n",
       "       'PAY/BILL_4', 'PAY/BILL_5', 'AVE_PAY/BILL', 'UNPAID_MONTHS'],\n",
       "      dtype='object')"
      ]
     },
     "execution_count": 30,
     "metadata": {},
     "output_type": "execute_result"
    }
   ],
   "source": [
    "data.columns"
   ]
  },
  {
   "cell_type": "code",
   "execution_count": null,
   "id": "9ed52426",
   "metadata": {},
   "outputs": [],
   "source": []
  }
 ],
 "metadata": {
  "kernelspec": {
   "display_name": "Python 3 (ipykernel)",
   "language": "python",
   "name": "python3"
  },
  "language_info": {
   "codemirror_mode": {
    "name": "ipython",
    "version": 3
   },
   "file_extension": ".py",
   "mimetype": "text/x-python",
   "name": "python",
   "nbconvert_exporter": "python",
   "pygments_lexer": "ipython3",
   "version": "3.9.7"
  }
 },
 "nbformat": 4,
 "nbformat_minor": 5
}
