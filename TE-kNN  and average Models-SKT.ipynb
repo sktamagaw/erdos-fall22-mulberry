{
 "cells": [
  {
   "cell_type": "markdown",
   "id": "89ad3aa6",
   "metadata": {},
   "source": [
    "In this notebook, we build some k Nearest Neighbor models using Target Encoded claissification features"
   ]
  },
  {
   "cell_type": "markdown",
   "id": "34463947",
   "metadata": {},
   "source": [
    "## Importing packages and data"
   ]
  },
  {
   "cell_type": "code",
   "execution_count": 1,
   "id": "46119e27",
   "metadata": {},
   "outputs": [],
   "source": [
    "import pandas as pd\n",
    "from matplotlib import pyplot as plt\n",
    "import numpy as np"
   ]
  },
  {
   "cell_type": "code",
   "execution_count": 2,
   "id": "53e56510",
   "metadata": {},
   "outputs": [],
   "source": [
    "from sklearn.model_selection import StratifiedKFold\n",
    "from sklearn.neighbors import KNeighborsClassifier"
   ]
  },
  {
   "cell_type": "code",
   "execution_count": 3,
   "id": "5c8a5215",
   "metadata": {},
   "outputs": [],
   "source": [
    "from sklearn.pipeline import Pipeline\n",
    "from sklearn.decomposition import PCA\n",
    "from sklearn.preprocessing import StandardScaler"
   ]
  },
  {
   "cell_type": "code",
   "execution_count": 4,
   "id": "0cd2bd23",
   "metadata": {},
   "outputs": [],
   "source": [
    "from sklearn.model_selection import train_test_split"
   ]
  },
  {
   "cell_type": "code",
   "execution_count": 5,
   "id": "024bac30",
   "metadata": {},
   "outputs": [],
   "source": [
    "from sklearn.metrics import confusion_matrix, accuracy_score, recall_score"
   ]
  },
  {
   "cell_type": "code",
   "execution_count": 6,
   "id": "c252f6fa",
   "metadata": {},
   "outputs": [],
   "source": [
    "df=pd.read_csv('clean_data_3.csv')"
   ]
  },
  {
   "cell_type": "markdown",
   "id": "4922262a",
   "metadata": {},
   "source": [
    "## Splitting the data"
   ]
  },
  {
   "cell_type": "code",
   "execution_count": 7,
   "id": "3c66359a",
   "metadata": {},
   "outputs": [],
   "source": [
    "train, val = train_test_split(df,\n",
    "                              test_size=0.1,\n",
    "                              stratify=df[\"Y\"],\n",
    "                              shuffle=True,\n",
    "                              random_state=123)"
   ]
  },
  {
   "cell_type": "markdown",
   "id": "e82c89da",
   "metadata": {},
   "source": [
    "## A first model\n",
    "Using all of the features we found to have a strong or weak correlation during EDA\n",
    "\n",
    "Using kfold cross-validation, we find that k=1 is the best by a small margin, and the type of metric used doesn't seem to matter.\n",
    "\n",
    "This model as a much higher accuracy but lower recall than the baseline model.\n"
   ]
  },
  {
   "cell_type": "code",
   "execution_count": 8,
   "id": "58ab6d46",
   "metadata": {},
   "outputs": [],
   "source": [
    "def make_x(n):\n",
    "    '''makes a list of the form [1,1,1,1,1,2,2,2,2,2,...,n,n,n,n,n]\n",
    "    (5 of each)'''\n",
    "    answer=[]\n",
    "    for i in range(n):\n",
    "        j=i+1\n",
    "        answer=answer+[j,j,j,j,j]\n",
    "    return(answer)"
   ]
  },
  {
   "cell_type": "code",
   "execution_count": 9,
   "id": "c5cba2bb",
   "metadata": {},
   "outputs": [],
   "source": [
    "features2=['SEX_TE', \n",
    "           'EDUCATION_TE', \n",
    "           'MARRIAGE_TE', \n",
    "           'PAY_1_TE',\n",
    "           'PAY_AMT1',\n",
    "           'AGE_BY10_TE', \n",
    "           'AVE_PAY', \n",
    "           'AGE/LIM', \n",
    "           'AVE_BILL_AMT',\n",
    "           'AVE_BILL_AMT/LIM', \n",
    "           'AVE_PAY_AMT',\n",
    "           'AVE_PAY_AMT/LIM',  \n",
    "           'AVE_PAY/BILL', \n",
    "           'UNPAID_MONTHS']"
   ]
  },
  {
   "cell_type": "markdown",
   "id": "8ddb113c",
   "metadata": {},
   "source": [
    "#### Finding an optimal $k$"
   ]
  },
  {
   "cell_type": "code",
   "execution_count": 10,
   "id": "ff3aff58",
   "metadata": {},
   "outputs": [],
   "source": [
    "def knn_1(j, splits):\n",
    "    '''goes through k in range(1,j+1) on kNN models on training set.\n",
    "    splits is the number of splits in the stratifiedkfold\n",
    "    features is hard-coded in\n",
    "    \n",
    "    Creates an array of precisions and recalls, to be processed'''\n",
    "    \n",
    "    kfold=StratifiedKFold(n_splits=splits,\n",
    "                         shuffle=True,\n",
    "                         random_state=123)\n",
    "    \n",
    "    accs=np.zeros((j,splits))\n",
    "    recs = np.zeros((j,splits))\n",
    "    for i in range(j):\n",
    "        x=0\n",
    "        for train_index, test_index in kfold.split(train[features2], train['Y']):\n",
    "\n",
    "            # make k Nearest Neighbors model with k=i+1\n",
    "            kNN = KNeighborsClassifier(n_neighbors=1*(i+1))\n",
    "            kNN.fit(\n",
    "                train.iloc[train_index][features2],\n",
    "                train.iloc[train_index]['Y']\n",
    "                    )\n",
    "            pred=kNN.predict(train.iloc[test_index][features2]\n",
    "                        )\n",
    "\n",
    "            # add metrics to the tables\n",
    "            accs[i,x]=accuracy_score(train.iloc[test_index]['Y'], pred)\n",
    "            recs[i,x]=recall_score(train.iloc[test_index]['Y'], pred, zero_division=0)\n",
    "            x=x+1\n",
    "\n",
    "    return(accs, recs)"
   ]
  },
  {
   "cell_type": "code",
   "execution_count": 11,
   "id": "a7f3097c",
   "metadata": {
    "scrolled": true
   },
   "outputs": [],
   "source": [
    "metrics=knn_1(5,5)"
   ]
  },
  {
   "cell_type": "code",
   "execution_count": 12,
   "id": "e270a76f",
   "metadata": {},
   "outputs": [
    {
     "data": {
      "image/png": "[encoded data removed]",
      "text/plain": [
       "<Figure size 432x288 with 1 Axes>"
      ]
     },
     "metadata": {
      "needs_background": "light"
     },
     "output_type": "display_data"
    }
   ],
   "source": [
    "#plt.figure(figsize=(8,6))\n",
    "\n",
    "plt.scatter(make_x(5),\n",
    "           metrics[0],\n",
    "           label='Accuracy')\n",
    "\n",
    "plt.scatter(make_x(5),\n",
    "           metrics[1],\n",
    "           label='Recall')\n",
    "\n",
    "plt.title('Metric Scores for kNN Classifer', fontsize=20)\n",
    "plt.xlabel('Number of neighbors')\n",
    "plt.ylabel('metric')\n",
    "plt.ylim(-0.1,1.1)\n",
    "\n",
    "plt.legend()\n",
    "\n",
    "plt.show()"
   ]
  },
  {
   "cell_type": "code",
   "execution_count": 13,
   "id": "19836deb",
   "metadata": {},
   "outputs": [
    {
     "data": {
      "text/plain": [
       "0.7416666666666666"
      ]
     },
     "execution_count": 13,
     "metadata": {},
     "output_type": "execute_result"
    }
   ],
   "source": [
    "np.mean(metrics[0])"
   ]
  },
  {
   "cell_type": "code",
   "execution_count": 14,
   "id": "ed3ba47a",
   "metadata": {},
   "outputs": [
    {
     "data": {
      "text/plain": [
       "0.18898133624888738"
      ]
     },
     "execution_count": 14,
     "metadata": {},
     "output_type": "execute_result"
    }
   ],
   "source": [
    "np.mean(metrics[1])"
   ]
  },
  {
   "cell_type": "markdown",
   "id": "2e795be4",
   "metadata": {},
   "source": [
    "#### Should the distances be weighted?"
   ]
  },
  {
   "cell_type": "code",
   "execution_count": 15,
   "id": "e3d566ed",
   "metadata": {},
   "outputs": [],
   "source": [
    "def knn_3(splits):\n",
    "    '''\n",
    "    splits is the number of splits in the stratifiedkfold\n",
    "    features is hard-coded in\n",
    "    \n",
    "    Creates an array of precisions and recalls, to be processed'''\n",
    "    \n",
    "    kfold=StratifiedKFold(n_splits=splits,\n",
    "                         shuffle=True,\n",
    "                         random_state=123)\n",
    "    weights=['uniform','distance']\n",
    "    \n",
    "    accs=np.zeros((2,splits))\n",
    "    recs = np.zeros((2,splits))\n",
    "    for i in range(2):\n",
    "        x=0\n",
    "        for train_index, test_index in kfold.split(train[features2], train['Y']):\n",
    "\n",
    "            # make k Nearest Neighbors model with k=i+1\n",
    "            kNN = KNeighborsClassifier(n_neighbors=1,\n",
    "                                       weights=weights[i]\n",
    "                                      )\n",
    "            kNN.fit(\n",
    "                train.iloc[train_index][features2],\n",
    "                train.iloc[train_index]['Y']\n",
    "                    )\n",
    "            pred=kNN.predict(train.iloc[test_index][features2]\n",
    "                        )\n",
    "\n",
    "            # add metrics to the tables\n",
    "            accs[i,x]=accuracy_score(train.iloc[test_index]['Y'], pred)\n",
    "            recs[i,x]=recall_score(train.iloc[test_index]['Y'], pred, zero_division=0)\n",
    "            x=x+1\n",
    "\n",
    "    return(accs, recs)"
   ]
  },
  {
   "cell_type": "code",
   "execution_count": 16,
   "id": "257b9b2c",
   "metadata": {},
   "outputs": [
    {
     "data": {
      "text/plain": [
       "(array([[0.69166667, 0.69518519, 0.68814815, 0.68351852, 0.69814815],\n",
       "        [0.69166667, 0.69518519, 0.68814815, 0.68351852, 0.69814815]]),\n",
       " array([[0.30209205, 0.28535565, 0.30653266, 0.30988275, 0.2998325 ],\n",
       "        [0.30209205, 0.28535565, 0.30653266, 0.30988275, 0.2998325 ]]))"
      ]
     },
     "execution_count": 16,
     "metadata": {},
     "output_type": "execute_result"
    }
   ],
   "source": [
    "metrics3=knn_3(5)\n",
    "\n",
    "metrics3"
   ]
  },
  {
   "cell_type": "markdown",
   "id": "209af3dd",
   "metadata": {},
   "source": [
    "## Deciding if we should really use all the features\n",
    "\n",
    "Maybe we should have done this before finding $k$..."
   ]
  },
  {
   "cell_type": "markdown",
   "id": "8164805d",
   "metadata": {},
   "source": [
    "So if we were to use the powerset of features1 to determine the best subset of features1 to use, we would create and compare 16,384 models.  I don't have the computing power for that, so let's be smarter about which subset to use.\n",
    "\n",
    "Let's create a series of models that uses the average of each feature individually to decide, and compare the accuracy/recall of those.\n",
    "\n",
    "We'll ignore marriage and education because those numbers don't actually mean anything, so taking an average doesn't make sense.  We'll leave IN sex because it's binary."
   ]
  },
  {
   "cell_type": "code",
   "execution_count": 17,
   "id": "b065e078",
   "metadata": {},
   "outputs": [
    {
     "name": "stdout",
     "output_type": "stream",
     "text": [
      "SEX_TE\n",
      "Accuracy: 0.5744074074074074\n",
      "Recall: 0.4362022772940388\n",
      "\n",
      "\n",
      "EDUCATION_TE\n",
      "Accuracy: 0.45155555555555554\n",
      "Recall: 0.6905559276624247\n",
      "\n",
      "\n",
      "MARRIAGE_TE\n",
      "Accuracy: 0.5295925925925926\n",
      "Recall: 0.4956463496316142\n",
      "\n",
      "\n",
      "PAY_1_TE\n",
      "Accuracy: 0.7805555555555556\n",
      "Recall: 0.5190890823844608\n",
      "\n",
      "\n",
      "PAY_AMT1\n",
      "Accuracy: 0.38381481481481483\n",
      "Recall: 0.8591761553918286\n",
      "\n",
      "\n",
      "AGE_BY10_TE\n",
      "Accuracy: 0.445\n",
      "Recall: 0.6619223040857334\n",
      "\n",
      "\n",
      "AVE_PAY\n",
      "Accuracy: 0.4781111111111111\n",
      "Recall: 0.7268921634293369\n",
      "\n",
      "\n",
      "AGE/LIM\n",
      "Accuracy: 0.5681481481481482\n",
      "Recall: 0.45160750167448094\n",
      "\n",
      "\n",
      "AVE_BILL_AMT\n",
      "Accuracy: 0.4003703703703704\n",
      "Recall: 0.709310113864702\n",
      "\n",
      "\n",
      "AVE_BILL_AMT/LIM\n",
      "Accuracy: 0.575037037037037\n",
      "Recall: 0.549899531145345\n",
      "\n",
      "\n",
      "AVE_PAY_AMT\n",
      "Accuracy: 0.41455555555555557\n",
      "Recall: 0.8369055592766242\n",
      "\n",
      "\n",
      "AVE_PAY_AMT/LIM\n",
      "Accuracy: 0.39874074074074073\n",
      "Recall: 0.7285666443402545\n",
      "\n",
      "\n",
      "AVE_PAY/BILL\n",
      "Accuracy: 0.49374074074074076\n",
      "Recall: 0.6756530475552579\n",
      "\n",
      "\n",
      "UNPAID_MONTHS\n",
      "Accuracy: 0.7309629629629629\n",
      "Recall: 0.6513730743469525\n",
      "\n",
      "\n"
     ]
    }
   ],
   "source": [
    "all_metrics=[]\n",
    "\n",
    "for feature in features2:\n",
    "    ave=train[feature].mean()\n",
    "    \n",
    "    pred=[]\n",
    "    accs=[]\n",
    "    recs=[]\n",
    "    \n",
    "    #Assign the prediction to the observation based on which side of the average it is on\n",
    "    for i in range(len(train)):\n",
    "        if train.groupby(['Y'])[feature].mean()[0] < ave:\n",
    "            if train.iloc[i][feature] <=ave:\n",
    "                pred.append(0)\n",
    "            else: pred.append(1)\n",
    "        else:\n",
    "            if train.iloc[i][feature] > ave:\n",
    "                pred.append(0)\n",
    "            else: pred.append(1)\n",
    "        \n",
    "    #find the accuracy and recall\n",
    "    accuracy = accuracy_score(train['Y'],pred)\n",
    "    recall=recall_score(train['Y'],pred)\n",
    "    accs.append(accuracy)\n",
    "    recs.append(recall)\n",
    "    \n",
    "    #print the findings\n",
    "    print(feature)\n",
    "    print('Accuracy: '+ str(accuracy))\n",
    "    print('Recall: ' + str(recall))\n",
    "    print('\\n')\n",
    "    \n",
    "    #save the findings into the output\n",
    "    all_metrics.append(accs)\n",
    "    all_metrics.append(recs)\n",
    "        "
   ]
  },
  {
   "cell_type": "code",
   "execution_count": 18,
   "id": "d9c23094",
   "metadata": {},
   "outputs": [
    {
     "data": {
      "text/plain": [
       "28"
      ]
     },
     "execution_count": 18,
     "metadata": {},
     "output_type": "execute_result"
    }
   ],
   "source": [
    "len(all_metrics)"
   ]
  },
  {
   "cell_type": "code",
   "execution_count": 19,
   "id": "428b1bb4",
   "metadata": {},
   "outputs": [],
   "source": [
    "recall_scores=[all_metrics[2*i+1] for i in range(14)]\n",
    "accuracy_scores=[all_metrics[2*i] for i in range(14)]"
   ]
  },
  {
   "cell_type": "code",
   "execution_count": 20,
   "id": "ff553c60",
   "metadata": {},
   "outputs": [
    {
     "data": {
      "image/png": "[encoded data removed]",
      "text/plain": [
       "<Figure size 1440x576 with 1 Axes>"
      ]
     },
     "metadata": {
      "needs_background": "light"
     },
     "output_type": "display_data"
    }
   ],
   "source": [
    "plt.figure(figsize=(20,8))\n",
    "\n",
    "plt.scatter(features2,\n",
    "           recall_scores,\n",
    "           label='Recall',\n",
    "           color='b')\n",
    "\n",
    "plt.scatter(features2,\n",
    "           accuracy_scores,\n",
    "           label='accuracy',\n",
    "           color='red')\n",
    "\n",
    "plt.plot([features2[0], features2[-1]],\n",
    "        [.81, .81],\n",
    "        label='Previous Accuracy',\n",
    "        color='red')\n",
    "\n",
    "\n",
    "plt.plot([0,13],\n",
    "        [0.35, 0.35],\n",
    "        label='Previous Recall',\n",
    "        color='blue')\n",
    "\n",
    "plt.title('Accuracy and Recall Using Average by Features')\n",
    "\n",
    "plt.xlabel('Feature')\n",
    "\n",
    "plt.legend(loc=\"center right\", bbox_to_anchor=(1.5, 0.5))\n",
    "\n",
    "plt.show()"
   ]
  },
  {
   "cell_type": "markdown",
   "id": "39ee41d8",
   "metadata": {},
   "source": [
    "If accuracy is the only important thing to us, the best features to use are: unpaid_months, age_by10 (what?!), sex, ave_bill_amt, and age/lim\n",
    "\n",
    "If recall is the only important thing to us, the best features to use are: pay_amt1, ave_pay_amt, pay_1, ave_pay, and ave_pay_amt/lim\n",
    "\n",
    "If recall and accuracy are equally important to us, the best featuers to use are:\n",
    "unpaid_months, ave_pay/bill, ave_pay, ave_bill_amt/lim\n",
    "\n",
    "So, let's build some knn models using just these features"
   ]
  },
  {
   "cell_type": "code",
   "execution_count": 21,
   "id": "0f699213",
   "metadata": {},
   "outputs": [],
   "source": [
    "features_acc=['UNPAID_MONTHS', 'AGE_BY10', 'SEX', 'AVE_BILL_AMT', 'AGE/LIM']\n",
    "features_rec=['PAY_AMT1', 'AVE_PAY_AMT', 'PAY_1', 'AVE_PAY', 'AVE_PAY_AMT/LIM']\n",
    "features_both=['UNPAID_MONTHS', 'AVE_PAY/BILL', 'AVE_PAY', 'AVE_BILL_AMT/LIM']"
   ]
  },
  {
   "cell_type": "code",
   "execution_count": 23,
   "id": "70682900",
   "metadata": {},
   "outputs": [],
   "source": [
    "def knn_4(fs, j, splits):\n",
    "    '''goes through k in range(1,j+1) on kNN models on training set.\n",
    "    splits is the number of splits in the stratifiedkfold\n",
    "    features is hard-coded in\n",
    "    \n",
    "    Creates an array of precisions and recalls, to be processed'''\n",
    "    \n",
    "    kfold=StratifiedKFold(n_splits=splits,\n",
    "                         shuffle=True,\n",
    "                         random_state=123)\n",
    "    \n",
    "    accs=np.zeros((j,splits))\n",
    "    recs = np.zeros((j,splits))\n",
    "    for i in range(j):\n",
    "        x=0\n",
    "        for train_index, test_index in kfold.split(train[fs], train['Y']):\n",
    "\n",
    "            # make k Nearest Neighbors model with k=i+1\n",
    "            kNN = KNeighborsClassifier(n_neighbors=1*(i+1))\n",
    "            kNN.fit(\n",
    "                train.iloc[train_index][fs],\n",
    "                train.iloc[train_index]['Y']\n",
    "                    )\n",
    "            pred=kNN.predict(train.iloc[test_index][fs]\n",
    "                        )\n",
    "\n",
    "            # add metrics to the tables\n",
    "            accs[i,x]=accuracy_score(train.iloc[test_index]['Y'], pred)\n",
    "            recs[i,x]=recall_score(train.iloc[test_index]['Y'], pred, zero_division=0)\n",
    "            x=x+1\n",
    "\n",
    "    return(accs, recs)"
   ]
  },
  {
   "cell_type": "code",
   "execution_count": 24,
   "id": "694c888d",
   "metadata": {},
   "outputs": [],
   "source": [
    "knn_foracc=knn_4(features_acc,5,5)\n",
    "knn_forrec=knn_4(features_rec,5,5)\n",
    "knn_forboth=knn_4(features_both,5,5)"
   ]
  },
  {
   "cell_type": "code",
   "execution_count": 25,
   "id": "0822abd5",
   "metadata": {},
   "outputs": [
    {
     "data": {
      "image/png": "[encoded data removed]",
      "text/plain": [
       "<Figure size 432x288 with 1 Axes>"
      ]
     },
     "metadata": {
      "needs_background": "light"
     },
     "output_type": "display_data"
    }
   ],
   "source": [
    "#plt.figure(figsize=(8,6))\n",
    "\n",
    "plt.scatter(5*[1,2,3,4,5], np.transpose(knn_foracc[0]).reshape(1,-1))\n",
    "\n",
    "#plt.scatter(range(1,5), np.mean(knn_foracc[0], axis=1), label='Average')\n",
    "\n",
    "#plt.plot([1,5],\n",
    "#        [accuracy_score(train['Y'],baseline_pred['Y']),accuracy_score(train['Y'],baseline_pred['Y'])],\n",
    "#        label='Baseline')\n",
    "\n",
    "plt.title('Accuracy Scores for kNN Classifer (accuracy)', fontsize=20)\n",
    "plt.xlabel('Number of neighbors')\n",
    "plt.ylabel('Accuracy')\n",
    "plt.ylim(-0.1,1.1)\n",
    "\n",
    "#plt.legend()\n",
    "\n",
    "plt.show()"
   ]
  },
  {
   "cell_type": "code",
   "execution_count": 26,
   "id": "2ff1cb91",
   "metadata": {},
   "outputs": [
    {
     "data": {
      "image/png": "[encoded data removed]",
      "text/plain": [
       "<Figure size 432x288 with 1 Axes>"
      ]
     },
     "metadata": {
      "needs_background": "light"
     },
     "output_type": "display_data"
    }
   ],
   "source": [
    "#plt.figure(figsize=(8,6))\n",
    "\n",
    "plt.scatter(5*[1,2,3,4,5], np.transpose(knn_forrec[1]).reshape(1,-1))\n",
    "\n",
    "#plt.scatter(range(1,5), np.mean(knn_foracc[0], axis=1), label='Average')\n",
    "\n",
    "\n",
    "\n",
    "plt.title('Recall Scores for kNN Classifer (recall)', fontsize=20)\n",
    "plt.xlabel('Number of neighbors')\n",
    "plt.ylabel('Recall')\n",
    "plt.ylim(-0.1,1.1)\n",
    "\n",
    "\n",
    "\n",
    "plt.show()"
   ]
  },
  {
   "cell_type": "code",
   "execution_count": 28,
   "id": "6f04db0a",
   "metadata": {},
   "outputs": [
    {
     "data": {
      "image/png": "[encoded data removed]",
      "text/plain": [
       "<Figure size 432x288 with 1 Axes>"
      ]
     },
     "metadata": {
      "needs_background": "light"
     },
     "output_type": "display_data"
    }
   ],
   "source": [
    "#plt.figure(figsize=(8,6))\n",
    "\n",
    "plt.scatter(5*[1,2,3,4,5], np.transpose(knn_forboth[0]).reshape(1,-1),\n",
    "           label='Accuracy')\n",
    "\n",
    "plt.scatter(5*[1,2,3,4,5], np.transpose(knn_forboth[1]).reshape(1,-1),\n",
    "           label='Recall')\n",
    "\n",
    "#plt.scatter(range(1,5), np.mean(knn_foracc[0], axis=1), label='Average')\n",
    "\n",
    "# plt.plot([1,5],\n",
    "#         [accuracy_score(train['Y'],baseline_pred['Y']),accuracy_score(train['Y'],baseline_pred['Y'])],\n",
    "#         label='Baseline Accuracy')\n",
    "\n",
    "# plt.plot([1,5],\n",
    "#         [recall_score(train['Y'],baseline_pred['Y']),recall_score(train['Y'],baseline_pred['Y'])],\n",
    "#         label='Baseline Recall')\n",
    "\n",
    "plt.title('Recall and Accuracy Scores for kNN Classifer (Both)', fontsize=20)\n",
    "plt.xlabel('Number of neighbors')\n",
    "plt.ylabel('Metrics')\n",
    "plt.ylim(-0.1,1.1)\n",
    "\n",
    "plt.legend()\n",
    "\n",
    "plt.show()"
   ]
  },
  {
   "cell_type": "code",
   "execution_count": 29,
   "id": "ffbd94b6",
   "metadata": {},
   "outputs": [
    {
     "data": {
      "text/plain": [
       "0.300739120988485"
      ]
     },
     "execution_count": 29,
     "metadata": {},
     "output_type": "execute_result"
    }
   ],
   "source": [
    "np.mean(metrics[1][0])"
   ]
  },
  {
   "cell_type": "code",
   "execution_count": 30,
   "id": "adf5f7f4",
   "metadata": {},
   "outputs": [
    {
     "data": {
      "text/plain": [
       "array([0.77907407, 0.76740741, 0.75296296, 0.78148148, 0.7612963 ])"
      ]
     },
     "execution_count": 30,
     "metadata": {},
     "output_type": "execute_result"
    }
   ],
   "source": [
    "knn_forboth[0][2]"
   ]
  },
  {
   "cell_type": "markdown",
   "id": "64cf49b9",
   "metadata": {},
   "source": [
    "## PCA and kNN"
   ]
  },
  {
   "cell_type": "code",
   "execution_count": 31,
   "id": "4bd46d7c",
   "metadata": {},
   "outputs": [],
   "source": [
    "def knn_5(j, splits=5, features=features2):\n",
    "    '''goes through k in range(1,j+1) on kNN models on training set\n",
    "    does PCA first to reduce dimensions\n",
    "    splits is the number of splits in the stratifiedkfold\n",
    "    features is hard-coded in\n",
    "    \n",
    "    Creates an array of precisions and recalls, to be processed'''\n",
    "    \n",
    "    kfold=StratifiedKFold(n_splits=splits,\n",
    "                         shuffle=True,\n",
    "                         random_state=123)\n",
    "    \n",
    "    accs=np.zeros((j,splits))\n",
    "    recs = np.zeros((j,splits))\n",
    "    for i in range(j):\n",
    "        x=0\n",
    "        for train_index, test_index in kfold.split(train[features], train['Y']):\n",
    "\n",
    "            # make k Nearest Neighbors model with k=i+1\n",
    "            kNN = Pipeline([\n",
    "                ('scale', StandardScaler()),\n",
    "                ('pca', PCA()),\n",
    "                ('knn', KNeighborsClassifier(n_neighbors=i+1))\n",
    "                            ])\n",
    "            kNN.fit(\n",
    "                train.iloc[train_index][features],\n",
    "                train.iloc[train_index]['Y']\n",
    "                    )\n",
    "            pred=kNN.predict(train.iloc[test_index][features]\n",
    "                        )\n",
    "\n",
    "            # add metrics to the tables\n",
    "            accs[i,x]=accuracy_score(train.iloc[test_index]['Y'], pred)\n",
    "            recs[i,x]=recall_score(train.iloc[test_index]['Y'], pred, zero_division=0)\n",
    "            x=x+1\n",
    "\n",
    "    return(accs, recs)"
   ]
  },
  {
   "cell_type": "code",
   "execution_count": 32,
   "id": "7c0ed9e4",
   "metadata": {},
   "outputs": [],
   "source": [
    "metrics_5=knn_5(20)"
   ]
  },
  {
   "cell_type": "code",
   "execution_count": 33,
   "id": "d0d201a7",
   "metadata": {
    "scrolled": true
   },
   "outputs": [
    {
     "data": {
      "image/png": "[encoded data removed]",
      "text/plain": [
       "<Figure size 432x288 with 1 Axes>"
      ]
     },
     "metadata": {
      "needs_background": "light"
     },
     "output_type": "display_data"
    }
   ],
   "source": [
    "#plt.figure(figsize=(8,6))\n",
    "\n",
    "plt.scatter(make_x(20),\n",
    "           metrics_5[0],\n",
    "           label='Accuracy')\n",
    "\n",
    "plt.scatter(make_x(20),\n",
    "           metrics_5[1],\n",
    "           label='Recall')\n",
    "\n",
    "plt.title('Metric Scores for kNN Classifer (PCA)', fontsize=20)\n",
    "plt.xlabel('Number of neighbors')\n",
    "plt.ylabel('metric')\n",
    "plt.ylim(-0.1,1.1)\n",
    "\n",
    "plt.legend()\n",
    "\n",
    "plt.show()"
   ]
  },
  {
   "cell_type": "code",
   "execution_count": 36,
   "id": "9e99ca92",
   "metadata": {},
   "outputs": [
    {
     "name": "stdout",
     "output_type": "stream",
     "text": [
      "Acc and rec for k=3\n",
      "0.7815\n",
      "0.3789\n"
     ]
    }
   ],
   "source": [
    "print('Acc and rec for k=3')\n",
    "print(np.round(np.mean(metrics_5[0][2]),4))\n",
    "print(np.round(np.mean(metrics_5[1][2]),4))"
   ]
  },
  {
   "cell_type": "code",
   "execution_count": 37,
   "id": "a3bab228",
   "metadata": {},
   "outputs": [
    {
     "name": "stdout",
     "output_type": "stream",
     "text": [
      "Acc and rec for k=1\n",
      "0.7368\n",
      "0.4005\n"
     ]
    }
   ],
   "source": [
    "print('Acc and rec for k=1')\n",
    "print(np.round(np.mean(metrics_5[0][0]),4))\n",
    "print(np.round(np.mean(metrics_5[1][0]),4))"
   ]
  },
  {
   "cell_type": "markdown",
   "id": "a4d4f8d9",
   "metadata": {},
   "source": [
    "## Testing models against validation data"
   ]
  },
  {
   "cell_type": "markdown",
   "id": "ca1c2c0c",
   "metadata": {},
   "source": [
    "Model using all the TE features"
   ]
  },
  {
   "cell_type": "code",
   "execution_count": 38,
   "id": "9e93e40a",
   "metadata": {},
   "outputs": [],
   "source": [
    "kNN1=KNeighborsClassifier(n_neighbors=1)"
   ]
  },
  {
   "cell_type": "code",
   "execution_count": 46,
   "id": "c1cd1b87",
   "metadata": {},
   "outputs": [],
   "source": [
    "kNN1.fit(train[features2],train['Y'])\n",
    "\n",
    "pred1=kNN1.predict(val[features2])"
   ]
  },
  {
   "cell_type": "code",
   "execution_count": 43,
   "id": "bf7d909c",
   "metadata": {},
   "outputs": [
    {
     "name": "stdout",
     "output_type": "stream",
     "text": [
      "Accuracy: 0.6863\n",
      "Recall: 0.296\n"
     ]
    }
   ],
   "source": [
    "print('Accuracy: ' + str(np.round(accuracy_score(pred1,val['Y']),4)) )\n",
    "print('Recall: ' + str(np.round(recall_score(pred1,val['Y']),4)))"
   ]
  },
  {
   "cell_type": "markdown",
   "id": "9344d92a",
   "metadata": {},
   "source": [
    "Model using all the TE features, and scale/PCA first"
   ]
  },
  {
   "cell_type": "code",
   "execution_count": 44,
   "id": "cccd2727",
   "metadata": {},
   "outputs": [],
   "source": [
    "kNN2=Pipeline([\n",
    "                ('scale', StandardScaler()),\n",
    "                ('pca', PCA()),\n",
    "                ('knn', KNeighborsClassifier(n_neighbors=3))\n",
    "                            ])"
   ]
  },
  {
   "cell_type": "code",
   "execution_count": 47,
   "id": "796d7c3b",
   "metadata": {},
   "outputs": [],
   "source": [
    "kNN2.fit(train[features2],train['Y'])\n",
    "\n",
    "pred2=kNN2.predict(val[features2])"
   ]
  },
  {
   "cell_type": "code",
   "execution_count": 48,
   "id": "5acb5e7b",
   "metadata": {},
   "outputs": [
    {
     "name": "stdout",
     "output_type": "stream",
     "text": [
      "Accuracy: 0.7753\n",
      "Recall: 0.4899\n"
     ]
    }
   ],
   "source": [
    "print('Accuracy: ' + str(np.round(accuracy_score(pred2,val['Y']),4)) )\n",
    "print('Recall: ' + str(np.round(recall_score(pred2,val['Y']),4)))"
   ]
  },
  {
   "cell_type": "code",
   "execution_count": null,
   "id": "586e4f3f",
   "metadata": {},
   "outputs": [],
   "source": []
  }
 ],
 "metadata": {
  "kernelspec": {
   "display_name": "Python 3 (ipykernel)",
   "language": "python",
   "name": "python3"
  },
  "language_info": {
   "codemirror_mode": {
    "name": "ipython",
    "version": 3
   },
   "file_extension": ".py",
   "mimetype": "text/x-python",
   "name": "python",
   "nbconvert_exporter": "python",
   "pygments_lexer": "ipython3",
   "version": "3.9.7"
  }
 },
 "nbformat": 4,
 "nbformat_minor": 5
}
