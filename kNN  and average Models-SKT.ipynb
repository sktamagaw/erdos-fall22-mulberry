{
 "cells": [
  {
   "cell_type": "markdown",
   "id": "89ad3aa6",
   "metadata": {},
   "source": [
    "In this notebook, we build some k Nearest Neighbor models.\n",
    "\n",
    "We find that if accuracy is an important metric to us, this is a decent model. We want to use 1 neighbor (because more gives us the same accuracy, but takes more computing power), and we can either use all the features, or just use `features_acc=['UNPAID_MONTHS', 'AGE_BY10', 'SEX', 'AVE_BILL_AMT', 'AGE/LIM']` (again, we get the same accuracy either way).  We also want to use the default metric on the underlying space.\n",
    "\n",
    "If recall is an important metric to us, this is not a very good model to use at all.\n",
    "\n",
    "Along the way, we also looked at each feature to see if just using if the person did better or worse than average to predict default was useful.  For recall, the UNPAID_MONTHS performed well and it performed decently when measured against accuracy.  For accuracy, the features PAY_AMT1 and AVE_PAY_AMT performed best, but the recall was low."
   ]
  },
  {
   "cell_type": "markdown",
   "id": "34463947",
   "metadata": {},
   "source": [
    "## Importing packages and data"
   ]
  },
  {
   "cell_type": "code",
   "execution_count": 1,
   "id": "46119e27",
   "metadata": {},
   "outputs": [],
   "source": [
    "import pandas as pd\n",
    "from matplotlib import pyplot as plt\n",
    "import numpy as np"
   ]
  },
  {
   "cell_type": "code",
   "execution_count": 2,
   "id": "53e56510",
   "metadata": {},
   "outputs": [],
   "source": [
    "from sklearn.model_selection import StratifiedKFold\n",
    "from sklearn.neighbors import KNeighborsClassifier"
   ]
  },
  {
   "cell_type": "code",
   "execution_count": 3,
   "id": "0cd2bd23",
   "metadata": {},
   "outputs": [],
   "source": [
    "from sklearn.model_selection import train_test_split"
   ]
  },
  {
   "cell_type": "code",
   "execution_count": 4,
   "id": "024bac30",
   "metadata": {},
   "outputs": [],
   "source": [
    "from sklearn.metrics import confusion_matrix, accuracy_score, recall_score"
   ]
  },
  {
   "cell_type": "code",
   "execution_count": 5,
   "id": "c252f6fa",
   "metadata": {},
   "outputs": [],
   "source": [
    "df=pd.read_csv('clean_data_2.csv')"
   ]
  },
  {
   "cell_type": "markdown",
   "id": "4922262a",
   "metadata": {},
   "source": [
    "## Splitting the data"
   ]
  },
  {
   "cell_type": "code",
   "execution_count": 6,
   "id": "3c66359a",
   "metadata": {},
   "outputs": [],
   "source": [
    "train, val = train_test_split(df,\n",
    "                              test_size=0.1,\n",
    "                              stratify=df[\"Y\"],\n",
    "                              shuffle=True,\n",
    "                              random_state=123)"
   ]
  },
  {
   "cell_type": "markdown",
   "id": "0bf7f72a",
   "metadata": {},
   "source": [
    "## A baseline model\n",
    "\n",
    "Let's use average payment history - if their payment history (based on AVE_PAY) is better than average (or the same), predict 0 and if their payment history is worse than average, predit 1.\n",
    "\n",
    "This model gets more things wrong than it gets things right."
   ]
  },
  {
   "cell_type": "code",
   "execution_count": 7,
   "id": "94593e8c",
   "metadata": {},
   "outputs": [],
   "source": [
    "baseline_pred = pd.DataFrame({'Y':[np. nan for i in range(len(train))]})"
   ]
  },
  {
   "cell_type": "code",
   "execution_count": 8,
   "id": "fa9ca88a",
   "metadata": {},
   "outputs": [],
   "source": [
    "ave_AVE_PAY = train['AVE_PAY'].mean()\n",
    "#for i in range(10):\n",
    "for i in range(len(train)):\n",
    "    #print(df.iloc[i]['AVE_PAY'])\n",
    "    if df.iloc[i]['AVE_PAY'] <= ave_AVE_PAY:\n",
    "        baseline_pred.at[i,'Y']=0\n",
    "    else:\n",
    "        baseline_pred.at[i,'Y']=1\n",
    "    "
   ]
  },
  {
   "cell_type": "markdown",
   "id": "4934a0fa",
   "metadata": {},
   "source": [
    "### Checking how good the model is"
   ]
  },
  {
   "cell_type": "code",
   "execution_count": 9,
   "id": "910da206",
   "metadata": {},
   "outputs": [
    {
     "data": {
      "text/plain": [
       "Y  \n",
       "1.0    16817\n",
       "0.0    10183\n",
       "dtype: int64"
      ]
     },
     "execution_count": 9,
     "metadata": {},
     "output_type": "execute_result"
    }
   ],
   "source": [
    "baseline_pred.value_counts()"
   ]
  },
  {
   "cell_type": "code",
   "execution_count": 10,
   "id": "d4436d9d",
   "metadata": {},
   "outputs": [
    {
     "data": {
      "text/plain": [
       "array([[ 7942, 13086],\n",
       "       [ 2241,  3731]], dtype=int64)"
      ]
     },
     "execution_count": 10,
     "metadata": {},
     "output_type": "execute_result"
    }
   ],
   "source": [
    "confusion_matrix(train['Y'],baseline_pred['Y'])"
   ]
  },
  {
   "cell_type": "code",
   "execution_count": 11,
   "id": "c4610672",
   "metadata": {},
   "outputs": [
    {
     "name": "stdout",
     "output_type": "stream",
     "text": [
      "Baseline accuracy:\n",
      "0.43233\n"
     ]
    }
   ],
   "source": [
    "print('Baseline accuracy:')\n",
    "print(np.round(accuracy_score(train['Y'],baseline_pred['Y']),5))"
   ]
  },
  {
   "cell_type": "code",
   "execution_count": 12,
   "id": "90a3639d",
   "metadata": {},
   "outputs": [
    {
     "name": "stdout",
     "output_type": "stream",
     "text": [
      "Baseline recall:\n",
      "0.62475\n"
     ]
    }
   ],
   "source": [
    "print('Baseline recall:')\n",
    "print(np.round(recall_score(train['Y'],baseline_pred['Y']),5))"
   ]
  },
  {
   "cell_type": "markdown",
   "id": "e82c89da",
   "metadata": {},
   "source": [
    "## A first model\n",
    "Using all of the features we found to have a strong or weak correlation during EDA\n",
    "\n",
    "Using kfold cross-validation, we find that k=1 is the best by a small margin, and the type of metric used doesn't seem to matter.\n",
    "\n",
    "This model as a much higher accuracy but lower recall than the baseline model.\n"
   ]
  },
  {
   "cell_type": "code",
   "execution_count": 13,
   "id": "c5cba2bb",
   "metadata": {},
   "outputs": [],
   "source": [
    "features1=['SEX', \n",
    "           'EDUCATION', \n",
    "           'MARRIAGE', \n",
    "           'PAY_1',\n",
    "           'PAY_AMT1',\n",
    "           'AGE_BY10', \n",
    "           'AVE_PAY', \n",
    "           'AGE/LIM', \n",
    "           'AVE_BILL_AMT',\n",
    "           'AVE_BILL_AMT/LIM', \n",
    "           'AVE_PAY_AMT',\n",
    "           'AVE_PAY_AMT/LIM',  \n",
    "           'AVE_PAY/BILL', \n",
    "           'UNPAID_MONTHS']"
   ]
  },
  {
   "cell_type": "markdown",
   "id": "8ddb113c",
   "metadata": {},
   "source": [
    "#### Finding an optimal $k$"
   ]
  },
  {
   "cell_type": "code",
   "execution_count": 14,
   "id": "ff3aff58",
   "metadata": {},
   "outputs": [],
   "source": [
    "def knn_1(j, splits):\n",
    "    '''goes through k in range(1,j+1) on kNN models on training set.\n",
    "    splits is the number of splits in the stratifiedkfold\n",
    "    features is hard-coded in\n",
    "    \n",
    "    Creates an array of precisions and recalls, to be processed'''\n",
    "    \n",
    "    kfold=StratifiedKFold(n_splits=splits,\n",
    "                         shuffle=True,\n",
    "                         random_state=123)\n",
    "    \n",
    "    accs=np.zeros((j,splits))\n",
    "    recs = np.zeros((j,splits))\n",
    "    for i in range(j):\n",
    "        x=0\n",
    "        for train_index, test_index in kfold.split(train[features1], train['Y']):\n",
    "\n",
    "            # make k Nearest Neighbors model with k=i+1\n",
    "            kNN = KNeighborsClassifier(n_neighbors=1*(i+1))\n",
    "            kNN.fit(\n",
    "                train.iloc[train_index][features1],\n",
    "                train.iloc[train_index]['Y']\n",
    "                    )\n",
    "            pred=kNN.predict(train.iloc[test_index][features1]\n",
    "                        )\n",
    "\n",
    "            # add metrics to the tables\n",
    "            accs[i,x]=accuracy_score(train.iloc[test_index]['Y'], pred)\n",
    "            recs[i,x]=recall_score(train.iloc[test_index]['Y'], pred, zero_division=0)\n",
    "            x=x+1\n",
    "\n",
    "    return(accs, recs)"
   ]
  },
  {
   "cell_type": "code",
   "execution_count": 15,
   "id": "a7f3097c",
   "metadata": {
    "scrolled": true
   },
   "outputs": [
    {
     "data": {
      "text/plain": [
       "(array([[0.69185185, 0.69425926, 0.68703704, 0.68518519, 0.69703704],\n",
       "        [0.76648148, 0.76592593, 0.75740741, 0.76111111, 0.76537037],\n",
       "        [0.73759259, 0.74185185, 0.72222222, 0.73259259, 0.73814815],\n",
       "        [0.77148148, 0.77055556, 0.76407407, 0.76111111, 0.7687037 ],\n",
       "        [0.75666667, 0.7562963 , 0.7462963 , 0.74851852, 0.75518519],\n",
       "        [0.775     , 0.77166667, 0.76944444, 0.77222222, 0.77351852],\n",
       "        [0.76759259, 0.76166667, 0.75981481, 0.76388889, 0.76759259],\n",
       "        [0.77259259, 0.77666667, 0.77111111, 0.775     , 0.77981481],\n",
       "        [0.77      , 0.76944444, 0.76518519, 0.77537037, 0.77351852],\n",
       "        [0.77537037, 0.78074074, 0.77444444, 0.77981481, 0.78388889]]),\n",
       " array([[0.30209205, 0.28451883, 0.30150754, 0.31155779, 0.29648241],\n",
       "        [0.11548117, 0.10962343, 0.11306533, 0.12562814, 0.10720268],\n",
       "        [0.21924686, 0.24351464, 0.23115578, 0.2361809 , 0.2160804 ],\n",
       "        [0.11882845, 0.12384937, 0.11557789, 0.11306533, 0.10217755],\n",
       "        [0.18075314, 0.21004184, 0.18676717, 0.19514238, 0.16164154],\n",
       "        [0.11966527, 0.11631799, 0.10469012, 0.12060302, 0.09631491],\n",
       "        [0.16485356, 0.17405858, 0.16247906, 0.17504188, 0.14907873],\n",
       "        [0.10376569, 0.12133891, 0.1038526 , 0.1080402 , 0.10217755],\n",
       "        [0.14728033, 0.15146444, 0.1440536 , 0.16247906, 0.13902848],\n",
       "        [0.10292887, 0.11715481, 0.09631491, 0.10971524, 0.10971524]]))"
      ]
     },
     "execution_count": 15,
     "metadata": {},
     "output_type": "execute_result"
    }
   ],
   "source": [
    "metrics=knn_1(10,5)\n",
    "\n",
    "metrics"
   ]
  },
  {
   "cell_type": "markdown",
   "id": "da739ac0",
   "metadata": {},
   "source": [
    "More neighbors gives us higher accuracy and lower recall.  \n",
    "\n",
    "We recall that accuracy is the percent of correct predictions, and \n",
    "recall  is the percent of correct predictions when we strict ourselves to  only those who actually defaulted.\n",
    "\n",
    "So as we use more neighbors, the number of False Negatives increases.  We're guessing that less people will default (which makes sense, since the majority of people don't default).  So, what matters more to our stake holders?\n",
    "\n",
    "A cursory look makes it seem we should either pick k=1 or k=3, but let's look at the pictures."
   ]
  },
  {
   "cell_type": "code",
   "execution_count": 16,
   "id": "f341b156",
   "metadata": {},
   "outputs": [
    {
     "data": {
      "image/png": "[encoded data removed]",
      "text/plain": [
       "<Figure size 432x288 with 1 Axes>"
      ]
     },
     "metadata": {
      "needs_background": "light"
     },
     "output_type": "display_data"
    }
   ],
   "source": [
    "#plt.figure(figsize=(8,6))\n",
    "\n",
    "plt.scatter(5*[1,2,3,4,5,6,7,8,9,10], np.transpose(metrics[0]).reshape(1,-1))\n",
    "\n",
    "plt.scatter(range(1,11), np.mean(metrics[0], axis=1), label='Average')\n",
    "\n",
    "plt.plot([1,10],\n",
    "        [accuracy_score(train['Y'],baseline_pred['Y']),accuracy_score(train['Y'],baseline_pred['Y'])],\n",
    "        label='Baseline')\n",
    "\n",
    "plt.title('Accuracy Scores for kNN Classifier 1', fontsize=20)\n",
    "plt.xlabel('Number of Neighbors')\n",
    "plt.ylabel('Recall')\n",
    "plt.ylim(-0.1,1.1)\n",
    "\n",
    "plt.legend()\n",
    "\n",
    "plt.show()"
   ]
  },
  {
   "cell_type": "code",
   "execution_count": 17,
   "id": "4a95dd03",
   "metadata": {},
   "outputs": [
    {
     "data": {
      "image/png": "[encoded data removed]",
      "text/plain": [
       "<Figure size 432x288 with 1 Axes>"
      ]
     },
     "metadata": {
      "needs_background": "light"
     },
     "output_type": "display_data"
    }
   ],
   "source": [
    "#plt.figure(figsize=(8,6))\n",
    "\n",
    "plt.scatter(5*[1,2,3,4,5,6,7,8,9,10], np.transpose(metrics[1]).reshape(1,-1))\n",
    "\n",
    "plt.scatter(range(1,11), np.mean(metrics[1], axis=1), label='Average')\n",
    "\n",
    "plt.plot([1,10],\n",
    "        [recall_score(train['Y'],baseline_pred['Y']),recall_score(train['Y'],baseline_pred['Y'])],\n",
    "        label='Baseline')\n",
    "\n",
    "plt.title('Recall Scores for kNN Classifier 1', fontsize=20)\n",
    "plt.xlabel('Number of Neighbors')\n",
    "plt.ylabel('Recall')\n",
    "plt.ylim(-0.1,1.1)\n",
    "\n",
    "plt.legend()\n",
    "\n",
    "plt.show()"
   ]
  },
  {
   "cell_type": "markdown",
   "id": "e7570cae",
   "metadata": {},
   "source": [
    "Actually, looking at this visually we might be best off with k=1, since recall is significantly higher and accuracy really isn't all that different."
   ]
  },
  {
   "cell_type": "markdown",
   "id": "979a5a6e",
   "metadata": {},
   "source": [
    "#### Finding a good metric"
   ]
  },
  {
   "cell_type": "markdown",
   "id": "3837e536",
   "metadata": {},
   "source": [
    "The metrics and their descriptions are here:\n",
    "https://scikit-learn.org/stable/modules/generated/sklearn.metrics.pairwise.distance_metrics.html#sklearn.metrics.pairwise.distance_metrics"
   ]
  },
  {
   "cell_type": "code",
   "execution_count": 18,
   "id": "0acc2b97",
   "metadata": {},
   "outputs": [],
   "source": [
    "metric_types=['cityblock', 'cosine', 'euclidean','l1','l2','manhattan','nan_euclidean']"
   ]
  },
  {
   "cell_type": "code",
   "execution_count": 19,
   "id": "8821adfd",
   "metadata": {},
   "outputs": [],
   "source": [
    "def knn_2(splits):\n",
    "    '''\n",
    "    splits is the number of splits in the stratifiedkfold\n",
    "    features is hard-coded in\n",
    "    \n",
    "    Creates an array of precisions and recalls, to be processed'''\n",
    "    \n",
    "    kfold=StratifiedKFold(n_splits=splits,\n",
    "                         shuffle=True,\n",
    "                         random_state=123)\n",
    "    \n",
    "    accs=np.zeros((len(metric_types),splits))\n",
    "    recs = np.zeros((len(metric_types),splits))\n",
    "    for i in range(len(metric_types)):\n",
    "        x=0\n",
    "        for train_index, test_index in kfold.split(train[features1], train['Y']):\n",
    "\n",
    "            # make k Nearest Neighbors model with k=i+1\n",
    "            kNN = KNeighborsClassifier(n_neighbors=1,\n",
    "                                       metric=metric_types[i]\n",
    "                                      )\n",
    "            kNN.fit(\n",
    "                train.iloc[train_index][features1],\n",
    "                train.iloc[train_index]['Y']\n",
    "                    )\n",
    "            pred=kNN.predict(train.iloc[test_index][features1]\n",
    "                        )\n",
    "\n",
    "            # add metrics to the tables\n",
    "            accs[i,x]=accuracy_score(train.iloc[test_index]['Y'], pred)\n",
    "            recs[i,x]=recall_score(train.iloc[test_index]['Y'], pred, zero_division=0)\n",
    "            x=x+1\n",
    "\n",
    "    return(accs, recs)"
   ]
  },
  {
   "cell_type": "code",
   "execution_count": 20,
   "id": "1076d727",
   "metadata": {},
   "outputs": [
    {
     "data": {
      "text/plain": [
       "(array([[0.69481481, 0.7012963 , 0.69055556, 0.68962963, 0.70074074],\n",
       "        [0.68888889, 0.68407407, 0.68425926, 0.68740741, 0.68462963],\n",
       "        [0.69185185, 0.69425926, 0.68703704, 0.68518519, 0.69703704],\n",
       "        [0.69481481, 0.7012963 , 0.69055556, 0.68962963, 0.70074074],\n",
       "        [0.69185185, 0.69425926, 0.68703704, 0.68518519, 0.69703704],\n",
       "        [0.69481481, 0.7012963 , 0.69055556, 0.68962963, 0.70074074],\n",
       "        [0.69185185, 0.69425926, 0.68703704, 0.685     , 0.69703704]]),\n",
       " array([[0.30543933, 0.29790795, 0.30569514, 0.319933  , 0.30737018],\n",
       "        [0.26778243, 0.28033473, 0.27973199, 0.28559464, 0.27721943],\n",
       "        [0.30209205, 0.28451883, 0.30150754, 0.31155779, 0.29648241],\n",
       "        [0.30543933, 0.29790795, 0.30569514, 0.319933  , 0.30737018],\n",
       "        [0.30209205, 0.28451883, 0.30150754, 0.31155779, 0.29648241],\n",
       "        [0.30543933, 0.29790795, 0.30569514, 0.319933  , 0.30737018],\n",
       "        [0.30209205, 0.28451883, 0.30234506, 0.31155779, 0.29648241]]))"
      ]
     },
     "execution_count": 20,
     "metadata": {},
     "output_type": "execute_result"
    }
   ],
   "source": [
    "metrics2=knn_2(5)\n",
    "\n",
    "metrics2"
   ]
  },
  {
   "cell_type": "code",
   "execution_count": 21,
   "id": "565dd3a2",
   "metadata": {},
   "outputs": [
    {
     "data": {
      "image/png": "[encoded data removed]",
      "text/plain": [
       "<Figure size 432x288 with 1 Axes>"
      ]
     },
     "metadata": {
      "needs_background": "light"
     },
     "output_type": "display_data"
    }
   ],
   "source": [
    "#plt.figure(figsize=(8,6))\n",
    "\n",
    "plt.scatter(5*[1,2,3,4,5,6,7], np.transpose(metrics2[0]).reshape(1,-1))\n",
    "\n",
    "plt.scatter(range(1,8), np.mean(metrics2[0], axis=1), label='Average')\n",
    "\n",
    "plt.plot([1,7],\n",
    "        [accuracy_score(train['Y'],baseline_pred['Y']),accuracy_score(train['Y'],baseline_pred['Y'])],\n",
    "        label='Baseline')\n",
    "\n",
    "plt.title('Accuracy Scores for kNN Classifier 2', fontsize=20)\n",
    "plt.xlabel('Metric')\n",
    "plt.ylabel('Recall')\n",
    "plt.ylim(-0.1,1.1)\n",
    "\n",
    "plt.legend()\n",
    "\n",
    "plt.show()"
   ]
  },
  {
   "cell_type": "code",
   "execution_count": 22,
   "id": "fcd7f016",
   "metadata": {},
   "outputs": [
    {
     "data": {
      "image/png": "[encoded data removed]",
      "text/plain": [
       "<Figure size 432x288 with 1 Axes>"
      ]
     },
     "metadata": {
      "needs_background": "light"
     },
     "output_type": "display_data"
    }
   ],
   "source": [
    "#plt.figure(figsize=(8,6))\n",
    "\n",
    "plt.scatter(5*[1,2,3,4,5,6,7], np.transpose(metrics2[1]).reshape(1,-1))\n",
    "\n",
    "plt.scatter(range(1,8), np.mean(metrics2[1], axis=1), label='Average')\n",
    "\n",
    "plt.plot([1,7],\n",
    "        [recall_score(train['Y'],baseline_pred['Y']),recall_score(train['Y'],baseline_pred['Y'])],\n",
    "        label='Baseline')\n",
    "\n",
    "plt.title('Recall Scores for kNN Classifier 2', fontsize=20)\n",
    "plt.xlabel('Metric')\n",
    "plt.ylabel('Recall')\n",
    "plt.ylim(-0.1,1.1)\n",
    "\n",
    "plt.legend()\n",
    "\n",
    "plt.show()"
   ]
  },
  {
   "cell_type": "markdown",
   "id": "7ac8b0be",
   "metadata": {},
   "source": [
    "So the metric doesn't really matter"
   ]
  },
  {
   "cell_type": "markdown",
   "id": "2e795be4",
   "metadata": {},
   "source": [
    "#### Should the distances be weighted?"
   ]
  },
  {
   "cell_type": "code",
   "execution_count": 23,
   "id": "e3d566ed",
   "metadata": {},
   "outputs": [],
   "source": [
    "def knn_3(splits):\n",
    "    '''\n",
    "    splits is the number of splits in the stratifiedkfold\n",
    "    features is hard-coded in\n",
    "    \n",
    "    Creates an array of precisions and recalls, to be processed'''\n",
    "    \n",
    "    kfold=StratifiedKFold(n_splits=splits,\n",
    "                         shuffle=True,\n",
    "                         random_state=123)\n",
    "    weights=['uniform','distance']\n",
    "    \n",
    "    accs=np.zeros((2,splits))\n",
    "    recs = np.zeros((2,splits))\n",
    "    for i in range(2):\n",
    "        x=0\n",
    "        for train_index, test_index in kfold.split(train[features1], train['Y']):\n",
    "\n",
    "            # make k Nearest Neighbors model with k=i+1\n",
    "            kNN = KNeighborsClassifier(n_neighbors=1,\n",
    "                                       weights=weights[i]\n",
    "                                      )\n",
    "            kNN.fit(\n",
    "                train.iloc[train_index][features1],\n",
    "                train.iloc[train_index]['Y']\n",
    "                    )\n",
    "            pred=kNN.predict(train.iloc[test_index][features1]\n",
    "                        )\n",
    "\n",
    "            # add metrics to the tables\n",
    "            accs[i,x]=accuracy_score(train.iloc[test_index]['Y'], pred)\n",
    "            recs[i,x]=recall_score(train.iloc[test_index]['Y'], pred, zero_division=0)\n",
    "            x=x+1\n",
    "\n",
    "    return(accs, recs)"
   ]
  },
  {
   "cell_type": "code",
   "execution_count": 24,
   "id": "257b9b2c",
   "metadata": {},
   "outputs": [
    {
     "data": {
      "text/plain": [
       "(array([[0.69185185, 0.69425926, 0.68703704, 0.68518519, 0.69703704],\n",
       "        [0.69185185, 0.69425926, 0.68703704, 0.68518519, 0.69703704]]),\n",
       " array([[0.30209205, 0.28451883, 0.30150754, 0.31155779, 0.29648241],\n",
       "        [0.30209205, 0.28451883, 0.30150754, 0.31155779, 0.29648241]]))"
      ]
     },
     "execution_count": 24,
     "metadata": {},
     "output_type": "execute_result"
    }
   ],
   "source": [
    "metrics3=knn_3(5)\n",
    "\n",
    "metrics3"
   ]
  },
  {
   "cell_type": "markdown",
   "id": "d0ab32c3",
   "metadata": {},
   "source": [
    "Well, those aren't different at all"
   ]
  },
  {
   "cell_type": "markdown",
   "id": "209af3dd",
   "metadata": {},
   "source": [
    "## Deciding if we should really use all the features\n",
    "\n",
    "Maybe we should have done this before finding $k$..."
   ]
  },
  {
   "cell_type": "markdown",
   "id": "8164805d",
   "metadata": {},
   "source": [
    "So if we were to use the powerset of features1 to determine the best subset of features1 to use, we would create and compare 16,384 models.  I don't have the computing power for that, so let's be smarter about which subset to use.\n",
    "\n",
    "Let's create a series of models that uses the average of each feature individually to decide, and compare the accuracy/recall of those.\n",
    "\n",
    "We'll ignore marriage and education because those numbers don't actually mean anything, so taking an average doesn't make sense.  We'll leave IN sex because it's binary."
   ]
  },
  {
   "cell_type": "code",
   "execution_count": 26,
   "id": "6eb7f870",
   "metadata": {},
   "outputs": [
    {
     "data": {
      "text/plain": [
       "Y\n",
       "0    35.431805\n",
       "1    35.714501\n",
       "Name: AGE, dtype: float64"
      ]
     },
     "execution_count": 26,
     "metadata": {},
     "output_type": "execute_result"
    }
   ],
   "source": [
    "train.groupby(['Y'])['AGE'].mean()"
   ]
  },
  {
   "cell_type": "code",
   "execution_count": 27,
   "id": "b065e078",
   "metadata": {},
   "outputs": [
    {
     "name": "stdout",
     "output_type": "stream",
     "text": [
      "SEX\n",
      "Accuracy: 0.5744074074074074\n",
      "Recall: 0.4362022772940388\n",
      "\n",
      "\n",
      "EDUCATION\n",
      "Accuracy: 0.43766666666666665\n",
      "Recall: 0.6950770261219023\n",
      "\n",
      "\n",
      "MARRIAGE\n",
      "Accuracy: 0.5362962962962963\n",
      "Recall: 0.48174815807099797\n",
      "\n",
      "\n",
      "PAY_1\n",
      "Accuracy: 0.41574074074074074\n",
      "Recall: 0.8039182853315472\n",
      "\n",
      "\n",
      "PAY_AMT1\n",
      "Accuracy: 0.38381481481481483\n",
      "Recall: 0.8591761553918286\n",
      "\n",
      "\n",
      "AGE_BY10\n",
      "Accuracy: 0.6175925925925926\n",
      "Recall: 0.32736101808439383\n",
      "\n",
      "\n",
      "AVE_PAY\n",
      "Accuracy: 0.4781111111111111\n",
      "Recall: 0.7268921634293369\n",
      "\n",
      "\n",
      "AGE/LIM\n",
      "Accuracy: 0.5681481481481482\n",
      "Recall: 0.45160750167448094\n",
      "\n",
      "\n",
      "AVE_BILL_AMT\n",
      "Accuracy: 0.4003703703703704\n",
      "Recall: 0.709310113864702\n",
      "\n",
      "\n",
      "AVE_BILL_AMT/LIM\n",
      "Accuracy: 0.575037037037037\n",
      "Recall: 0.549899531145345\n",
      "\n",
      "\n",
      "AVE_PAY_AMT\n",
      "Accuracy: 0.41455555555555557\n",
      "Recall: 0.8369055592766242\n",
      "\n",
      "\n",
      "AVE_PAY_AMT/LIM\n",
      "Accuracy: 0.39874074074074073\n",
      "Recall: 0.7285666443402545\n",
      "\n",
      "\n",
      "AVE_PAY/BILL\n",
      "Accuracy: 0.49374074074074076\n",
      "Recall: 0.6756530475552579\n",
      "\n",
      "\n",
      "UNPAID_MONTHS\n",
      "Accuracy: 0.7309629629629629\n",
      "Recall: 0.6513730743469525\n",
      "\n",
      "\n"
     ]
    }
   ],
   "source": [
    "all_metrics=[]\n",
    "\n",
    "for feature in features1:\n",
    "    ave=train[feature].mean()\n",
    "    \n",
    "    pred=[]\n",
    "    accs=[]\n",
    "    recs=[]\n",
    "    \n",
    "    #Assign the prediction to the observation based on which side of the average it is on\n",
    "    for i in range(len(train)):\n",
    "        if train.groupby(['Y'])[feature].mean()[0] < ave:\n",
    "            if train.iloc[i][feature] <=ave:\n",
    "                pred.append(0)\n",
    "            else: pred.append(1)\n",
    "        else:\n",
    "            if train.iloc[i][feature] > ave:\n",
    "                pred.append(0)\n",
    "            else: pred.append(1)\n",
    "        \n",
    "    #find the accuracy and recall\n",
    "    accuracy = accuracy_score(train['Y'],pred)\n",
    "    recall=recall_score(train['Y'],pred)\n",
    "    accs.append(accuracy)\n",
    "    recs.append(recall)\n",
    "    \n",
    "    #print the findings\n",
    "    print(feature)\n",
    "    print('Accuracy: '+ str(accuracy))\n",
    "    print('Recall: ' + str(recall))\n",
    "    print('\\n')\n",
    "    \n",
    "    #save the findings into the output\n",
    "    all_metrics.append(accs)\n",
    "    all_metrics.append(recs)\n",
    "        "
   ]
  },
  {
   "cell_type": "code",
   "execution_count": 28,
   "id": "d9c23094",
   "metadata": {},
   "outputs": [
    {
     "data": {
      "text/plain": [
       "28"
      ]
     },
     "execution_count": 28,
     "metadata": {},
     "output_type": "execute_result"
    }
   ],
   "source": [
    "len(all_metrics)"
   ]
  },
  {
   "cell_type": "code",
   "execution_count": 29,
   "id": "428b1bb4",
   "metadata": {},
   "outputs": [],
   "source": [
    "recall_scores=[all_metrics[2*i+1] for i in range(14)]\n",
    "accuracy_scores=[all_metrics[2*i] for i in range(14)]"
   ]
  },
  {
   "cell_type": "code",
   "execution_count": 30,
   "id": "ff553c60",
   "metadata": {},
   "outputs": [
    {
     "data": {
      "image/png": "[encoded data removed]",
      "text/plain": [
       "<Figure size 1440x576 with 1 Axes>"
      ]
     },
     "metadata": {
      "needs_background": "light"
     },
     "output_type": "display_data"
    }
   ],
   "source": [
    "plt.figure(figsize=(20,8))\n",
    "\n",
    "plt.scatter(features1,\n",
    "           recall_scores,\n",
    "           label='Recall',\n",
    "           color='b')\n",
    "\n",
    "plt.scatter(features1,\n",
    "           accuracy_scores,\n",
    "           label='accuracy',\n",
    "           color='red')\n",
    "\n",
    "plt.plot([features1[0], features1[-1]],\n",
    "        [np.mean(accuracy_scores), np.mean(accuracy_scores)],\n",
    "        label='Average Accuracy',\n",
    "        color='red')\n",
    "\n",
    "\n",
    "plt.plot([0,13],\n",
    "        [np.mean(recall_scores), np.mean(recall_scores)],\n",
    "        label='Average Recall',\n",
    "        color='blue')\n",
    "\n",
    "plt.title('Accuracy and Recall')\n",
    "\n",
    "plt.xlabel('Feature')\n",
    "\n",
    "plt.legend(loc=\"center right\", bbox_to_anchor=(1.5, 0.5))\n",
    "\n",
    "plt.show()"
   ]
  },
  {
   "cell_type": "markdown",
   "id": "39ee41d8",
   "metadata": {},
   "source": [
    "If accuracy is the only important thing to us, the best features to use are: unpaid_months, age_by10 (what?!), sex, ave_bill_amt, and age/lim\n",
    "\n",
    "If recall is the only important thing to us, the best features to use are: pay_amt1, ave_pay_amt, pay_1, ave_pay, and ave_pay_amt/lim\n",
    "\n",
    "If recall and accuracy are equally important to us, the best featuers to use are:\n",
    "unpaid_months, ave_pay/bill, ave_pay, ave_bill_amt/lim\n",
    "\n",
    "So, let's build some knn models using just these features"
   ]
  },
  {
   "cell_type": "code",
   "execution_count": 31,
   "id": "0f699213",
   "metadata": {},
   "outputs": [],
   "source": [
    "features_acc=['UNPAID_MONTHS', 'AGE_BY10', 'SEX', 'AVE_BILL_AMT', 'AGE/LIM']\n",
    "features_rec=['PAY_AMT1', 'AVE_PAY_AMT', 'PAY_1', 'AVE_PAY', 'AVE_PAY_AMT/LIM']\n",
    "features_both=['UNPAID_MONTHS', 'AVE_PAY/BILL', 'AVE_PAY', 'AVE_BILL_AMT/LIM']"
   ]
  },
  {
   "cell_type": "code",
   "execution_count": 32,
   "id": "64aba406",
   "metadata": {},
   "outputs": [],
   "source": [
    "for feat in features_both:\n",
    "    train[feat]"
   ]
  },
  {
   "cell_type": "code",
   "execution_count": 33,
   "id": "70682900",
   "metadata": {},
   "outputs": [],
   "source": [
    "def knn_4(fs, j, splits):\n",
    "    '''goes through k in range(1,j+1) on kNN models on training set.\n",
    "    splits is the number of splits in the stratifiedkfold\n",
    "    features is hard-coded in\n",
    "    \n",
    "    Creates an array of precisions and recalls, to be processed'''\n",
    "    \n",
    "    kfold=StratifiedKFold(n_splits=splits,\n",
    "                         shuffle=True,\n",
    "                         random_state=123)\n",
    "    \n",
    "    accs=np.zeros((j,splits))\n",
    "    recs = np.zeros((j,splits))\n",
    "    for i in range(j):\n",
    "        x=0\n",
    "        for train_index, test_index in kfold.split(train[fs], train['Y']):\n",
    "\n",
    "            # make k Nearest Neighbors model with k=i+1\n",
    "            kNN = KNeighborsClassifier(n_neighbors=1*(i+1))\n",
    "            kNN.fit(\n",
    "                train.iloc[train_index][fs],\n",
    "                train.iloc[train_index]['Y']\n",
    "                    )\n",
    "            pred=kNN.predict(train.iloc[test_index][fs]\n",
    "                        )\n",
    "\n",
    "            # add metrics to the tables\n",
    "            accs[i,x]=accuracy_score(train.iloc[test_index]['Y'], pred)\n",
    "            recs[i,x]=recall_score(train.iloc[test_index]['Y'], pred, zero_division=0)\n",
    "            x=x+1\n",
    "\n",
    "    return(accs, recs)"
   ]
  },
  {
   "cell_type": "code",
   "execution_count": 34,
   "id": "694c888d",
   "metadata": {},
   "outputs": [],
   "source": [
    "knn_foracc=knn_4(features_acc,5,5)\n",
    "knn_forrec=knn_4(features_rec,5,5)\n",
    "knn_forboth=knn_4(features_both,5,5)"
   ]
  },
  {
   "cell_type": "code",
   "execution_count": 35,
   "id": "0822abd5",
   "metadata": {},
   "outputs": [
    {
     "data": {
      "image/png": "[encoded data removed]",
      "text/plain": [
       "<Figure size 432x288 with 1 Axes>"
      ]
     },
     "metadata": {
      "needs_background": "light"
     },
     "output_type": "display_data"
    }
   ],
   "source": [
    "#plt.figure(figsize=(8,6))\n",
    "\n",
    "plt.scatter(5*[1,2,3,4,5], np.transpose(knn_foracc[0]).reshape(1,-1))\n",
    "\n",
    "#plt.scatter(range(1,5), np.mean(knn_foracc[0], axis=1), label='Average')\n",
    "\n",
    "plt.plot([1,5],\n",
    "        [accuracy_score(train['Y'],baseline_pred['Y']),accuracy_score(train['Y'],baseline_pred['Y'])],\n",
    "        label='Baseline')\n",
    "\n",
    "plt.title('Accuracy Scores for kNN Classifer (accuracy)', fontsize=20)\n",
    "plt.xlabel('Number of neighbors')\n",
    "plt.ylabel('Accuracy')\n",
    "plt.ylim(-0.1,1.1)\n",
    "\n",
    "plt.legend()\n",
    "\n",
    "plt.show()"
   ]
  },
  {
   "cell_type": "code",
   "execution_count": 36,
   "id": "2ff1cb91",
   "metadata": {},
   "outputs": [
    {
     "data": {
      "image/png": "[encoded data removed]",
      "text/plain": [
       "<Figure size 432x288 with 1 Axes>"
      ]
     },
     "metadata": {
      "needs_background": "light"
     },
     "output_type": "display_data"
    }
   ],
   "source": [
    "#plt.figure(figsize=(8,6))\n",
    "\n",
    "plt.scatter(5*[1,2,3,4,5], np.transpose(knn_forrec[1]).reshape(1,-1))\n",
    "\n",
    "#plt.scatter(range(1,5), np.mean(knn_foracc[0], axis=1), label='Average')\n",
    "\n",
    "plt.plot([1,5],\n",
    "        [recall_score(train['Y'],baseline_pred['Y']),recall_score(train['Y'],baseline_pred['Y'])],\n",
    "        label='Baseline')\n",
    "\n",
    "plt.title('Recall Scores for kNN Classifer (recall)', fontsize=20)\n",
    "plt.xlabel('Number of neighbors')\n",
    "plt.ylabel('Recall')\n",
    "plt.ylim(-0.1,1.1)\n",
    "\n",
    "plt.legend()\n",
    "\n",
    "plt.show()"
   ]
  },
  {
   "cell_type": "code",
   "execution_count": 37,
   "id": "6f04db0a",
   "metadata": {},
   "outputs": [
    {
     "data": {
      "image/png": "[encoded data removed]",
      "text/plain": [
       "<Figure size 432x288 with 1 Axes>"
      ]
     },
     "metadata": {
      "needs_background": "light"
     },
     "output_type": "display_data"
    }
   ],
   "source": [
    "#plt.figure(figsize=(8,6))\n",
    "\n",
    "plt.scatter(5*[1,2,3,4,5], np.transpose(knn_forboth[0]).reshape(1,-1),\n",
    "           label='Accuracy')\n",
    "\n",
    "plt.scatter(5*[1,2,3,4,5], np.transpose(knn_forboth[1]).reshape(1,-1),\n",
    "           label='Recall')\n",
    "\n",
    "#plt.scatter(range(1,5), np.mean(knn_foracc[0], axis=1), label='Average')\n",
    "\n",
    "plt.plot([1,5],\n",
    "        [accuracy_score(train['Y'],baseline_pred['Y']),accuracy_score(train['Y'],baseline_pred['Y'])],\n",
    "        label='Baseline Accuracy')\n",
    "\n",
    "plt.plot([1,5],\n",
    "        [recall_score(train['Y'],baseline_pred['Y']),recall_score(train['Y'],baseline_pred['Y'])],\n",
    "        label='Baseline Recall')\n",
    "\n",
    "plt.title('Recall and Accuracy Scores for kNN Classifer (Both)', fontsize=20)\n",
    "plt.xlabel('Number of neighbors')\n",
    "plt.ylabel('Metrics')\n",
    "plt.ylim(-0.1,1.1)\n",
    "\n",
    "plt.legend()\n",
    "\n",
    "plt.show()"
   ]
  },
  {
   "cell_type": "code",
   "execution_count": 38,
   "id": "ffbd94b6",
   "metadata": {},
   "outputs": [
    {
     "data": {
      "text/plain": [
       "0.2992317234709111"
      ]
     },
     "execution_count": 38,
     "metadata": {},
     "output_type": "execute_result"
    }
   ],
   "source": [
    "np.mean(metrics[1][0])"
   ]
  },
  {
   "cell_type": "code",
   "execution_count": 39,
   "id": "24ee520d",
   "metadata": {},
   "outputs": [
    {
     "data": {
      "text/plain": [
       "0.3551601802597366"
      ]
     },
     "execution_count": 39,
     "metadata": {},
     "output_type": "execute_result"
    }
   ],
   "source": [
    "np.mean(knn_forboth[1][2])"
   ]
  },
  {
   "cell_type": "markdown",
   "id": "30c9f4bd",
   "metadata": {},
   "source": [
    "## Testing the models on the validation data"
   ]
  },
  {
   "cell_type": "markdown",
   "id": "fdae1f73",
   "metadata": {},
   "source": [
    "First model using all the features"
   ]
  },
  {
   "cell_type": "code",
   "execution_count": 40,
   "id": "a1ff4e44",
   "metadata": {},
   "outputs": [],
   "source": [
    "kNN1= KNeighborsClassifier(n_neighbors=1)"
   ]
  },
  {
   "cell_type": "code",
   "execution_count": 41,
   "id": "beb2ce5c",
   "metadata": {},
   "outputs": [],
   "source": [
    "kNN1.fit(train[features1], train['Y'])\n",
    "\n",
    "pred1=kNN1.predict(val[features1])"
   ]
  },
  {
   "cell_type": "code",
   "execution_count": 45,
   "id": "fcd6f437",
   "metadata": {
    "scrolled": true
   },
   "outputs": [
    {
     "name": "stdout",
     "output_type": "stream",
     "text": [
      "Validation set\n",
      "Accuracy score: 0.6883\n",
      "Recall score: 0.3087\n"
     ]
    }
   ],
   "source": [
    "print('Validation set')\n",
    "print('Accuracy score: ' + str(np.round(accuracy_score(val['Y'], pred1),4)))\n",
    "print('Recall score: ' + str(np.round(recall_score(val['Y'], pred1),4)))\n"
   ]
  },
  {
   "cell_type": "markdown",
   "id": "53d1ea5f",
   "metadata": {},
   "source": [
    "Second model with specialized features"
   ]
  },
  {
   "cell_type": "code",
   "execution_count": 46,
   "id": "ad5f8d14",
   "metadata": {},
   "outputs": [],
   "source": [
    "kNN2 = KNeighborsClassifier(n_neighbors=3)"
   ]
  },
  {
   "cell_type": "code",
   "execution_count": 47,
   "id": "ae0c0fcf",
   "metadata": {},
   "outputs": [],
   "source": [
    "kNN2.fit(train[features_both], train['Y'])\n",
    "\n",
    "pred2=kNN2.predict(val[features_both])"
   ]
  },
  {
   "cell_type": "code",
   "execution_count": 48,
   "id": "f2319970",
   "metadata": {},
   "outputs": [
    {
     "name": "stdout",
     "output_type": "stream",
     "text": [
      "Validation set\n",
      "Accuracy score: 0.759\n",
      "Recall score: 0.2877\n"
     ]
    }
   ],
   "source": [
    "print('Validation set')\n",
    "print('Accuracy score: ' + str(np.round(accuracy_score(val['Y'], pred2),4)))\n",
    "print('Recall score: ' + str(np.round(recall_score(val['Y'], pred2),4)))\n"
   ]
  },
  {
   "cell_type": "code",
   "execution_count": null,
   "id": "8261d0d6",
   "metadata": {},
   "outputs": [],
   "source": []
  }
 ],
 "metadata": {
  "kernelspec": {
   "display_name": "Python 3 (ipykernel)",
   "language": "python",
   "name": "python3"
  },
  "language_info": {
   "codemirror_mode": {
    "name": "ipython",
    "version": 3
   },
   "file_extension": ".py",
   "mimetype": "text/x-python",
   "name": "python",
   "nbconvert_exporter": "python",
   "pygments_lexer": "ipython3",
   "version": "3.9.7"
  }
 },
 "nbformat": 4,
 "nbformat_minor": 5
}
