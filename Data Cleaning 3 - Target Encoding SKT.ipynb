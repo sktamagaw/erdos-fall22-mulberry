{
 "cells": [
  {
   "cell_type": "markdown",
   "id": "aef0ffb1",
   "metadata": {},
   "source": [
    "We add columns for target encoding for the features:\n",
    "<ul>\n",
    "    <li> PAY_1 - PAY_6 </li>\n",
    "    <li> SEX </li>\n",
    "    <li> EDUCATION </li>\n",
    "    <li> MARRIAGE </li>\n",
    "    <li> AGE </li>\n",
    "    <li> AGE_BY10 </li>\n",
    "    </ul>"
   ]
  },
  {
   "cell_type": "markdown",
   "id": "edc7aa9f",
   "metadata": {},
   "source": [
    "## Importing packages and data"
   ]
  },
  {
   "cell_type": "code",
   "execution_count": 70,
   "id": "7c8a6788",
   "metadata": {},
   "outputs": [],
   "source": [
    "import pandas as pd\n",
    "import numpy as np"
   ]
  },
  {
   "cell_type": "code",
   "execution_count": 76,
   "id": "762e8477",
   "metadata": {},
   "outputs": [],
   "source": [
    "from sklearn.model_selection import train_test_split"
   ]
  },
  {
   "cell_type": "code",
   "execution_count": 71,
   "id": "f63a8540",
   "metadata": {},
   "outputs": [],
   "source": [
    "data=pd.read_csv('clean_data_2.csv')"
   ]
  },
  {
   "cell_type": "markdown",
   "id": "aace2fb5",
   "metadata": {},
   "source": [
    "## Splitting the data\n",
    "\n",
    "We need to split the data before we find our target encoding values."
   ]
  },
  {
   "cell_type": "code",
   "execution_count": 78,
   "id": "96e53bcb",
   "metadata": {},
   "outputs": [],
   "source": [
    "train, test = train_test_split(data,\n",
    "                               test_size=0.1,\n",
    "                               stratify=data['Y'],\n",
    "                               shuffle=True,\n",
    "                               random_state=123)"
   ]
  },
  {
   "cell_type": "markdown",
   "id": "c8ee68c7",
   "metadata": {},
   "source": [
    "## Helper function for target encoding\n",
    "\n",
    "Since I just learned what this is, I want to practice coding it from scratch instead of using `from category_encoders import TargetEncoder`\n",
    "\n",
    "Target Encoding is encoding a categorical value as the probability (items in the category with Y=1)/(items in that category)"
   ]
  },
  {
   "cell_type": "code",
   "execution_count": 109,
   "id": "694e15d8",
   "metadata": {},
   "outputs": [],
   "source": [
    "def te(tr, df, column, y):\n",
    "    '''takes in a column (as text) from a dataframe (df) and outputs a target encoded column as a list\n",
    "    where y is the name of the output 'Y' column\n",
    "    it will add values to everything in the dataframe df, \n",
    "    but only use the training set tr to compute the target encoded values\n",
    "    '''\n",
    "    \n",
    "    answer= []\n",
    "    \n",
    "    for i in range(len(df)):\n",
    "        value=df[column].iloc[i]\n",
    "        if value in tr[column].values:\n",
    "            if value in tr.groupby(y)[column].value_counts()[1].index:\n",
    "                ones=tr.groupby(y)[column].value_counts()[1][value]\n",
    "                total=tr[column].value_counts()[value]\n",
    "                answer.append(ones/total)\n",
    "            else:\n",
    "                print(value)\n",
    "                answer.append(0)\n",
    "        else:\n",
    "            print('HERE')\n",
    "            print(value)\n",
    "            answer.append(0)\n",
    "        \n",
    "    return(answer)"
   ]
  },
  {
   "cell_type": "code",
   "execution_count": 98,
   "id": "4e4918df",
   "metadata": {},
   "outputs": [
    {
     "data": {
      "text/plain": [
       "24"
      ]
     },
     "execution_count": 98,
     "metadata": {},
     "output_type": "execute_result"
    }
   ],
   "source": [
    "data['AGE'].iloc[0]"
   ]
  },
  {
   "cell_type": "code",
   "execution_count": 104,
   "id": "c34ca5cb",
   "metadata": {},
   "outputs": [
    {
     "data": {
      "text/plain": [
       "840"
      ]
     },
     "execution_count": 104,
     "metadata": {},
     "output_type": "execute_result"
    }
   ],
   "source": [
    "train.groupby('Y')['PAY_1'].value_counts()[1][-1]"
   ]
  },
  {
   "cell_type": "code",
   "execution_count": 105,
   "id": "8af11f61",
   "metadata": {},
   "outputs": [
    {
     "data": {
      "text/plain": [
       "5101"
      ]
     },
     "execution_count": 105,
     "metadata": {},
     "output_type": "execute_result"
    }
   ],
   "source": [
    "train['PAY_1'].value_counts()[-1]"
   ]
  },
  {
   "cell_type": "code",
   "execution_count": 106,
   "id": "3f4cae7c",
   "metadata": {},
   "outputs": [
    {
     "data": {
      "text/plain": [
       "0.16467359341305626"
      ]
     },
     "execution_count": 106,
     "metadata": {},
     "output_type": "execute_result"
    }
   ],
   "source": [
    "840/5101"
   ]
  },
  {
   "cell_type": "markdown",
   "id": "92f1c66e",
   "metadata": {},
   "source": [
    "## Columns for Pay_1 - Pay_6"
   ]
  },
  {
   "cell_type": "code",
   "execution_count": 115,
   "id": "a760827b",
   "metadata": {},
   "outputs": [
    {
     "data": {
      "text/plain": [
       "['PAY_1', 'PAY_2', 'PAY_3', 'PAY_4', 'PAY_5', 'PAY_6']"
      ]
     },
     "execution_count": 115,
     "metadata": {},
     "output_type": "execute_result"
    }
   ],
   "source": [
    "pay_cols= ['PAY_'+str(i) for i in range(1,7)]\n",
    "pay_cols"
   ]
  },
  {
   "cell_type": "code",
   "execution_count": 116,
   "id": "3180a666",
   "metadata": {},
   "outputs": [
    {
     "name": "stdout",
     "output_type": "stream",
     "text": [
      "8\n"
     ]
    }
   ],
   "source": [
    "for column in pay_cols:\n",
    "    new_col= column+'_TE'\n",
    "    data[new_col]=te(train, data, column,'Y')"
   ]
  },
  {
   "cell_type": "markdown",
   "id": "24b3f310",
   "metadata": {},
   "source": [
    "## the rest of them"
   ]
  },
  {
   "cell_type": "code",
   "execution_count": 117,
   "id": "6376e939",
   "metadata": {},
   "outputs": [],
   "source": [
    "features = ['SEX', 'EDUCATION', 'MARRIAGE', 'AGE', 'AGE_BY10']"
   ]
  },
  {
   "cell_type": "code",
   "execution_count": 118,
   "id": "acda8a23",
   "metadata": {},
   "outputs": [
    {
     "name": "stdout",
     "output_type": "stream",
     "text": [
      "71\n",
      "71\n",
      "68\n",
      "68\n",
      "68\n",
      "68\n",
      "79\n",
      "68\n",
      "71\n",
      "74\n"
     ]
    }
   ],
   "source": [
    "for column in features:\n",
    "    new_col= column+'_TE'\n",
    "    data[new_col]=te(train, data, column,'Y')"
   ]
  },
  {
   "cell_type": "markdown",
   "id": "2a7abdf6",
   "metadata": {},
   "source": [
    "## Saving the dataframe"
   ]
  },
  {
   "cell_type": "code",
   "execution_count": 119,
   "id": "dd91a5d9",
   "metadata": {},
   "outputs": [],
   "source": [
    "data.to_csv(\"clean_data_3.csv\", index=False)"
   ]
  },
  {
   "cell_type": "code",
   "execution_count": 120,
   "id": "8160e2c1",
   "metadata": {},
   "outputs": [
    {
     "data": {
      "text/html": [
       "<div>\n",
       "<style scoped>\n",
       "    .dataframe tbody tr th:only-of-type {\n",
       "        vertical-align: middle;\n",
       "    }\n",
       "\n",
       "    .dataframe tbody tr th {\n",
       "        vertical-align: top;\n",
       "    }\n",
       "\n",
       "    .dataframe thead th {\n",
       "        text-align: right;\n",
       "    }\n",
       "</style>\n",
       "<table border=\"1\" class=\"dataframe\">\n",
       "  <thead>\n",
       "    <tr style=\"text-align: right;\">\n",
       "      <th></th>\n",
       "      <th>ID</th>\n",
       "      <th>LIMIT_BAL</th>\n",
       "      <th>SEX</th>\n",
       "      <th>EDUCATION</th>\n",
       "      <th>MARRIAGE</th>\n",
       "      <th>AGE</th>\n",
       "      <th>PAY_1</th>\n",
       "      <th>PAY_2</th>\n",
       "      <th>PAY_3</th>\n",
       "      <th>PAY_4</th>\n",
       "      <th>...</th>\n",
       "      <th>PAY_2_TE</th>\n",
       "      <th>PAY_3_TE</th>\n",
       "      <th>PAY_4_TE</th>\n",
       "      <th>PAY_5_TE</th>\n",
       "      <th>PAY_6_TE</th>\n",
       "      <th>SEX_TE</th>\n",
       "      <th>EDUCATION_TE</th>\n",
       "      <th>MARRIAGE_TE</th>\n",
       "      <th>AGE_TE</th>\n",
       "      <th>AGE_BY10_TE</th>\n",
       "    </tr>\n",
       "  </thead>\n",
       "  <tbody>\n",
       "    <tr>\n",
       "      <th>0</th>\n",
       "      <td>1</td>\n",
       "      <td>20000</td>\n",
       "      <td>2</td>\n",
       "      <td>2</td>\n",
       "      <td>1</td>\n",
       "      <td>24</td>\n",
       "      <td>2</td>\n",
       "      <td>2</td>\n",
       "      <td>-1</td>\n",
       "      <td>-1</td>\n",
       "      <td>...</td>\n",
       "      <td>0.559584</td>\n",
       "      <td>0.153285</td>\n",
       "      <td>0.157823</td>\n",
       "      <td>0.195856</td>\n",
       "      <td>0.197815</td>\n",
       "      <td>0.206933</td>\n",
       "      <td>0.238835</td>\n",
       "      <td>0.233864</td>\n",
       "      <td>0.264414</td>\n",
       "      <td>0.230823</td>\n",
       "    </tr>\n",
       "    <tr>\n",
       "      <th>1</th>\n",
       "      <td>2</td>\n",
       "      <td>120000</td>\n",
       "      <td>2</td>\n",
       "      <td>2</td>\n",
       "      <td>2</td>\n",
       "      <td>26</td>\n",
       "      <td>-1</td>\n",
       "      <td>2</td>\n",
       "      <td>0</td>\n",
       "      <td>0</td>\n",
       "      <td>...</td>\n",
       "      <td>0.559584</td>\n",
       "      <td>0.173907</td>\n",
       "      <td>0.182616</td>\n",
       "      <td>0.188242</td>\n",
       "      <td>0.505793</td>\n",
       "      <td>0.206933</td>\n",
       "      <td>0.238835</td>\n",
       "      <td>0.209881</td>\n",
       "      <td>0.204425</td>\n",
       "      <td>0.230823</td>\n",
       "    </tr>\n",
       "    <tr>\n",
       "      <th>2</th>\n",
       "      <td>3</td>\n",
       "      <td>90000</td>\n",
       "      <td>2</td>\n",
       "      <td>2</td>\n",
       "      <td>2</td>\n",
       "      <td>34</td>\n",
       "      <td>0</td>\n",
       "      <td>0</td>\n",
       "      <td>0</td>\n",
       "      <td>0</td>\n",
       "      <td>...</td>\n",
       "      <td>0.157917</td>\n",
       "      <td>0.173907</td>\n",
       "      <td>0.182616</td>\n",
       "      <td>0.188242</td>\n",
       "      <td>0.188377</td>\n",
       "      <td>0.206933</td>\n",
       "      <td>0.238835</td>\n",
       "      <td>0.209881</td>\n",
       "      <td>0.192493</td>\n",
       "      <td>0.200278</td>\n",
       "    </tr>\n",
       "    <tr>\n",
       "      <th>3</th>\n",
       "      <td>4</td>\n",
       "      <td>50000</td>\n",
       "      <td>2</td>\n",
       "      <td>2</td>\n",
       "      <td>1</td>\n",
       "      <td>37</td>\n",
       "      <td>0</td>\n",
       "      <td>0</td>\n",
       "      <td>0</td>\n",
       "      <td>0</td>\n",
       "      <td>...</td>\n",
       "      <td>0.157917</td>\n",
       "      <td>0.173907</td>\n",
       "      <td>0.182616</td>\n",
       "      <td>0.188242</td>\n",
       "      <td>0.188377</td>\n",
       "      <td>0.206933</td>\n",
       "      <td>0.238835</td>\n",
       "      <td>0.233864</td>\n",
       "      <td>0.204104</td>\n",
       "      <td>0.200278</td>\n",
       "    </tr>\n",
       "    <tr>\n",
       "      <th>4</th>\n",
       "      <td>5</td>\n",
       "      <td>50000</td>\n",
       "      <td>1</td>\n",
       "      <td>2</td>\n",
       "      <td>1</td>\n",
       "      <td>57</td>\n",
       "      <td>-1</td>\n",
       "      <td>0</td>\n",
       "      <td>-1</td>\n",
       "      <td>0</td>\n",
       "      <td>...</td>\n",
       "      <td>0.157917</td>\n",
       "      <td>0.153285</td>\n",
       "      <td>0.182616</td>\n",
       "      <td>0.188242</td>\n",
       "      <td>0.188377</td>\n",
       "      <td>0.242800</td>\n",
       "      <td>0.238835</td>\n",
       "      <td>0.233864</td>\n",
       "      <td>0.212963</td>\n",
       "      <td>0.250474</td>\n",
       "    </tr>\n",
       "  </tbody>\n",
       "</table>\n",
       "<p>5 rows × 62 columns</p>\n",
       "</div>"
      ],
      "text/plain": [
       "   ID  LIMIT_BAL  SEX  EDUCATION  MARRIAGE  AGE  PAY_1  PAY_2  PAY_3  PAY_4  \\\n",
       "0   1      20000    2          2         1   24      2      2     -1     -1   \n",
       "1   2     120000    2          2         2   26     -1      2      0      0   \n",
       "2   3      90000    2          2         2   34      0      0      0      0   \n",
       "3   4      50000    2          2         1   37      0      0      0      0   \n",
       "4   5      50000    1          2         1   57     -1      0     -1      0   \n",
       "\n",
       "   ...  PAY_2_TE  PAY_3_TE  PAY_4_TE  PAY_5_TE  PAY_6_TE    SEX_TE  \\\n",
       "0  ...  0.559584  0.153285  0.157823  0.195856  0.197815  0.206933   \n",
       "1  ...  0.559584  0.173907  0.182616  0.188242  0.505793  0.206933   \n",
       "2  ...  0.157917  0.173907  0.182616  0.188242  0.188377  0.206933   \n",
       "3  ...  0.157917  0.173907  0.182616  0.188242  0.188377  0.206933   \n",
       "4  ...  0.157917  0.153285  0.182616  0.188242  0.188377  0.242800   \n",
       "\n",
       "   EDUCATION_TE  MARRIAGE_TE    AGE_TE  AGE_BY10_TE  \n",
       "0      0.238835     0.233864  0.264414     0.230823  \n",
       "1      0.238835     0.209881  0.204425     0.230823  \n",
       "2      0.238835     0.209881  0.192493     0.200278  \n",
       "3      0.238835     0.233864  0.204104     0.200278  \n",
       "4      0.238835     0.233864  0.212963     0.250474  \n",
       "\n",
       "[5 rows x 62 columns]"
      ]
     },
     "execution_count": 120,
     "metadata": {},
     "output_type": "execute_result"
    }
   ],
   "source": [
    "data.head()"
   ]
  },
  {
   "cell_type": "code",
   "execution_count": 123,
   "id": "8e060bee",
   "metadata": {},
   "outputs": [
    {
     "data": {
      "text/plain": [
       "0    0.689482\n",
       "1    0.164674\n",
       "2    0.128358\n",
       "3    0.128358\n",
       "4    0.164674\n",
       "Name: PAY_1_TE, dtype: float64"
      ]
     },
     "execution_count": 123,
     "metadata": {},
     "output_type": "execute_result"
    }
   ],
   "source": [
    "data['PAY_1_TE'].head()"
   ]
  },
  {
   "cell_type": "code",
   "execution_count": null,
   "id": "82986d64",
   "metadata": {},
   "outputs": [],
   "source": []
  }
 ],
 "metadata": {
  "kernelspec": {
   "display_name": "Python 3 (ipykernel)",
   "language": "python",
   "name": "python3"
  },
  "language_info": {
   "codemirror_mode": {
    "name": "ipython",
    "version": 3
   },
   "file_extension": ".py",
   "mimetype": "text/x-python",
   "name": "python",
   "nbconvert_exporter": "python",
   "pygments_lexer": "ipython3",
   "version": "3.9.7"
  }
 },
 "nbformat": 4,
 "nbformat_minor": 5
}
